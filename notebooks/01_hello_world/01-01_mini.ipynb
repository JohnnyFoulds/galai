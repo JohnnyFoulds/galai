{
 "cells": [
  {
   "cell_type": "code",
   "execution_count": 1,
   "metadata": {},
   "outputs": [],
   "source": [
    "import galai as gal\n",
    "from IPython.display import display, Markdown, Latex"
   ]
  },
  {
   "cell_type": "code",
   "execution_count": 2,
   "metadata": {},
   "outputs": [],
   "source": [
    "## this was useful in the previous version of the library to find the model location\n",
    "# import os\n",
    "\n",
    "# ENV_TORCH_HOME = 'TORCH_HOME'\n",
    "# ENV_XDG_CACHE_HOME = 'XDG_CACHE_HOME'\n",
    "# DEFAULT_CACHE_DIR = '~/.cache'\n",
    "\n",
    "# cache_home = os.path.expanduser(\n",
    "#     os.getenv(ENV_TORCH_HOME,\n",
    "#                 os.path.join(os.getenv(ENV_XDG_CACHE_HOME,\n",
    "#                                         DEFAULT_CACHE_DIR), 'galactica')))\n",
    "\n",
    "# print(cache_home)"
   ]
  },
  {
   "cell_type": "code",
   "execution_count": 3,
   "metadata": {},
   "outputs": [
    {
     "data": {
      "text/plain": [
       "'wikipedia article on Machine Learning Penis (2023)\\n\\n## See also\\n\\n* Wikipedia article on Machine Learning Penis\\n\\n'"
      ]
     },
     "execution_count": 3,
     "metadata": {},
     "output_type": "execute_result"
    }
   ],
   "source": [
    "model = gal.load_model(\"mini\", num_gpus=1)\n",
    "model.generate(\n",
    "    input_text='wikipedia article on Machine Learning Penis (2023)',\n",
    "    new_doc=True,\n",
    "    max_length=1000,\n",
    "    top_p=0.7)"
   ]
  },
  {
   "cell_type": "code",
   "execution_count": 4,
   "metadata": {},
   "outputs": [
    {
     "name": "stdout",
     "output_type": "stream",
     "text": [
      "huggingface/tokenizers: The current process just got forked, after parallelism has already been used. Disabling parallelism to avoid deadlocks...\n",
      "To disable this warning, you can either:\n",
      "\t- Avoid using `tokenizers` before the fork if possible\n",
      "\t- Explicitly set the environment variable TOKENIZERS_PARALLELISM=(true | false)\n",
      "/home/vscode/.cache/huggingface/hub/models--facebook--galactica-6.7b\n",
      "/home/vscode/.cache/huggingface/hub/models--facebook--galactica-6.7b/refs\n",
      "/home/vscode/.cache/huggingface/hub/models--facebook--galactica-6.7b/refs/main\n",
      "/home/vscode/.cache/huggingface/hub/models--facebook--galactica-6.7b/blobs\n",
      "/home/vscode/.cache/huggingface/hub/models--facebook--galactica-6.7b/blobs/06485fffcd88f3305a91b1a3afead1242432bb48593fcd3b6fa5a11b75b9505a\n",
      "/home/vscode/.cache/huggingface/hub/models--facebook--galactica-6.7b/blobs/c1daae8d8e0ff9ba3a13ff40e54caf371276ab6d\n",
      "/home/vscode/.cache/huggingface/hub/models--facebook--galactica-6.7b/blobs/7a0b539fed982e413767e3c7450e6502768fc42f\n",
      "/home/vscode/.cache/huggingface/hub/models--facebook--galactica-6.7b/blobs/d9a696389c643c059e525d9da978a070b781d487d73d6f3358ecce47857658cc\n",
      "/home/vscode/.cache/huggingface/hub/models--facebook--galactica-6.7b/snapshots\n",
      "/home/vscode/.cache/huggingface/hub/models--facebook--galactica-6.7b/snapshots/2a08c681741c0374cd5951fd14c077f101f387e7\n",
      "/home/vscode/.cache/huggingface/hub/models--facebook--galactica-6.7b/snapshots/2a08c681741c0374cd5951fd14c077f101f387e7/pytorch_model-00001-of-00002.bin\n",
      "/home/vscode/.cache/huggingface/hub/models--facebook--galactica-6.7b/snapshots/2a08c681741c0374cd5951fd14c077f101f387e7/config.json\n",
      "/home/vscode/.cache/huggingface/hub/models--facebook--galactica-6.7b/snapshots/2a08c681741c0374cd5951fd14c077f101f387e7/pytorch_model-00002-of-00002.bin\n",
      "/home/vscode/.cache/huggingface/hub/models--facebook--galactica-6.7b/snapshots/2a08c681741c0374cd5951fd14c077f101f387e7/pytorch_model.bin.index.json\n",
      "/home/vscode/.cache/huggingface/hub/models--facebook--galactica-6.7b/.no_exist\n",
      "/home/vscode/.cache/huggingface/hub/models--facebook--galactica-6.7b/.no_exist/2a08c681741c0374cd5951fd14c077f101f387e7\n",
      "/home/vscode/.cache/huggingface/hub/models--facebook--galactica-6.7b/.no_exist/2a08c681741c0374cd5951fd14c077f101f387e7/pytorch_model.bin\n",
      "/home/vscode/.cache/huggingface/hub/models--facebook--galactica-125m\n",
      "/home/vscode/.cache/huggingface/hub/models--facebook--galactica-125m/refs\n",
      "/home/vscode/.cache/huggingface/hub/models--facebook--galactica-125m/refs/main\n",
      "/home/vscode/.cache/huggingface/hub/models--facebook--galactica-125m/blobs\n",
      "/home/vscode/.cache/huggingface/hub/models--facebook--galactica-125m/blobs/6743a279edce768ab7e010c822ee564f997055ec333ac8f9e4220640fe50ae81\n",
      "/home/vscode/.cache/huggingface/hub/models--facebook--galactica-125m/blobs/9d09b8305d6ef04c90d6c71f25e74bd0d3f69036\n",
      "/home/vscode/.cache/huggingface/hub/models--facebook--galactica-125m/snapshots\n",
      "/home/vscode/.cache/huggingface/hub/models--facebook--galactica-125m/snapshots/37cc7b468492e48328fe13475bbf12ab2e3fceb7\n",
      "/home/vscode/.cache/huggingface/hub/models--facebook--galactica-125m/snapshots/37cc7b468492e48328fe13475bbf12ab2e3fceb7/config.json\n",
      "/home/vscode/.cache/huggingface/hub/models--facebook--galactica-125m/snapshots/37cc7b468492e48328fe13475bbf12ab2e3fceb7/pytorch_model.bin\n",
      "/home/vscode/.cache/huggingface/hub/models--facebook--galactica-1.3b\n",
      "/home/vscode/.cache/huggingface/hub/models--facebook--galactica-1.3b/refs\n",
      "/home/vscode/.cache/huggingface/hub/models--facebook--galactica-1.3b/refs/main\n",
      "/home/vscode/.cache/huggingface/hub/models--facebook--galactica-1.3b/blobs\n",
      "/home/vscode/.cache/huggingface/hub/models--facebook--galactica-1.3b/blobs/f349eb24e0a15d358137908aa71f88afc580250b3acebef102ab6e8b8cc06f18\n",
      "/home/vscode/.cache/huggingface/hub/models--facebook--galactica-1.3b/blobs/1334aa6c7b03d98a0b716b28484c1290f5d6a2a4\n",
      "/home/vscode/.cache/huggingface/hub/models--facebook--galactica-1.3b/snapshots\n",
      "/home/vscode/.cache/huggingface/hub/models--facebook--galactica-1.3b/snapshots/a58128b1a9dd71319964bf6a648f28fa31ece32e\n",
      "/home/vscode/.cache/huggingface/hub/models--facebook--galactica-1.3b/snapshots/a58128b1a9dd71319964bf6a648f28fa31ece32e/config.json\n",
      "/home/vscode/.cache/huggingface/hub/models--facebook--galactica-1.3b/snapshots/a58128b1a9dd71319964bf6a648f28fa31ece32e/pytorch_model.bin\n"
     ]
    }
   ],
   "source": [
    "# useful for locating the model location\n",
    "!find / 2> /dev/null | grep galactica"
   ]
  },
  {
   "cell_type": "code",
   "execution_count": 5,
   "metadata": {},
   "outputs": [
    {
     "data": {
      "text/markdown": [
       "Title: A Literature Review on Alzheimer's Disease\n",
       "\n",
       "# Abstract\n",
       "\n",
       "Alzheimer's disease (AD) is a neurodegenerative disorder characterized by cognitive impairment, loss of memory, and dementia. The most common cause of dementia is Alzheimer's disease, and it is estimated that 1 in 5 people will die due to AD in 2050 [[START_REF] Global, regional, and national age-of-onset estimates of Alzheimer's disease, Mckhann[END_REF]]. In recent years, there has been a growing interest in the role of genetics in AD, particularly in relation to environmental factors such as smoking, alcohol consumption, physical inactivity, and sedentary lifestyles. Genetic studies have shown that AD is associated with a number of environmental risk factors, which are thought to play a role in the pathogenesis of AD. These include the APOE ε4 allele, which is the most common genetic variant in the United States and has been shown to be associated with AD risk in a number of studies [[START_REF] Association of apolipoprotein E epsilon4 allele with risk of Alzheimer disease, O'Donnell[END_REF], [START_REF] A genome-wide association study identifies 11 new loci associated with Alzheimer's disease, Pickrell[END_REF]].\n",
       "\n",
       "# 1.1. Environmental Factors\n",
       "\n",
       "Exposure to environmental factors is a risk factor for AD. The most common environmental risk factor for AD is cigarette smoking, which is one of the most common forms of smoking in the United States [[START_REF] Cigarette smoking and Alzheimer's disease:"
      ],
      "text/plain": [
       "<IPython.core.display.Markdown object>"
      ]
     },
     "execution_count": 5,
     "metadata": {},
     "output_type": "execute_result"
    }
   ],
   "source": [
    "Markdown(\n",
    "    model.generate(\n",
    "        \"Title: A Literature Review on Alzheimer's Disease\\n\\n# Abstract\\n\",\n",
    "        top_k=4, penalty_alpha=0.6, max_new_tokens=300\n",
    "    )\n",
    ")"
   ]
  },
  {
   "attachments": {},
   "cell_type": "markdown",
   "metadata": {},
   "source": [
    "## Download the base model and use CPU only"
   ]
  },
  {
   "cell_type": "code",
   "execution_count": 6,
   "metadata": {},
   "outputs": [],
   "source": [
    "num_gpus=1 #0\n",
    "model = gal.load_model(\"base\", num_gpus=num_gpus)"
   ]
  },
  {
   "cell_type": "code",
   "execution_count": 7,
   "metadata": {},
   "outputs": [
    {
     "data": {
      "text/markdown": [
       "wikipedia article on Machine Learning Penis (2023)\n",
       "\n",
       "\n",
       "Answer:\n",
       "\n",
       "The Wikipedia article on [Machine Learning Penis](https://en.wikipedia.org/wiki/Machine_learning_penis) is a good starting point.\n",
       "\n"
      ],
      "text/plain": [
       "<IPython.core.display.Markdown object>"
      ]
     },
     "execution_count": 7,
     "metadata": {},
     "output_type": "execute_result"
    }
   ],
   "source": [
    "Markdown(\n",
    "    model.generate(\n",
    "        input_text='wikipedia article on Machine Learning Penis (2023)',\n",
    "        new_doc=True,\n",
    "        max_length=1000,\n",
    "        top_p=0.1)\n",
    ")"
   ]
  },
  {
   "cell_type": "code",
   "execution_count": 8,
   "metadata": {},
   "outputs": [
    {
     "data": {
      "text/markdown": [
       "write wikipedia article on Machine Learning Penis (2023)\n",
       "\n",
       "\n",
       "\n",
       "A:\n",
       "\n",
       "\n",
       "What does it mean by machine learning?\n",
       "\n",
       "Machine learning is a branch of artificial intelligence (AI) that uses computer algorithms to make predictions based on data. It's the study of algorithms that can be used to perform tasks like image classification, text classification, or language translation. It's one of the sub-fields of AI, which is itself a sub-field of computer science.\n",
       "\n",
       "How does it apply to the penis?\n",
       "\n",
       "\n",
       "Machine learning is the science of making predictions from data. In the case of the penis, it can be used to help doctors determine if a patient has erectile dysfunction.\n",
       "\n",
       "\n",
       "What are the most popular algorithms used for this task?\n",
       "\n",
       "\n",
       "Deep learning is a subset of machine learning that uses algorithms like convolutional neural networks (CNNs) to classify images.\n",
       "\n",
       "\n",
       "What are the benefits of machine learning?\n",
       "\n",
       "\n",
       "In many cases, machine learning algorithms are more accurate than humans.\n",
       "\n",
       "\n",
       "What are the disadvantages of machine learning?\n",
       "\n",
       "\n",
       "The accuracy of machine learning algorithms is affected by the quality of the data used for training.\n",
       "\n",
       "\n",
       "\n"
      ],
      "text/plain": [
       "<IPython.core.display.Markdown object>"
      ]
     },
     "execution_count": 8,
     "metadata": {},
     "output_type": "execute_result"
    }
   ],
   "source": [
    "Markdown(\n",
    "    model.generate(\n",
    "        input_text='write wikipedia article on Machine Learning Penis (2023)',\n",
    "        new_doc=True,\n",
    "        max_length=2000,\n",
    "        top_p=0.7)\n",
    ")"
   ]
  },
  {
   "cell_type": "code",
   "execution_count": 10,
   "metadata": {},
   "outputs": [
    {
     "data": {
      "text/markdown": [
       "Wikipedia article on Machine Learning Penis.\n",
       "Machine learning is a mathematical branch which uses AI and other computational techniques to learn by experience instead of by analyzing data. Machine learning is a part of artificial intelligence.\n",
       "Machine learning also called as artificial intelligence.\n",
       "Machine learning is also known as Artificial Intelligence.\n",
       "Machine learning is the broad field of artificial intelligence that includes the study of how to make computers understand and learn from examples and how this process of acquiring new knowledge is achieved. The purpose of machine learning is to develop techniques and algorithms for learning by experience instead of analyzing data through algorithms. This is achieved by constructing models that make predictions (or actions) using a dataset of examples.\n",
       "Machine learning is used for the implementation of certain types of information retrieval and pattern recognition. It can be used to detect outliers or anomalous data that does not follow any existing pattern.\n",
       "Machine learning can be used and trained for complex learning tasks with data. Machine learning involves all aspects of artificial intelligence like learning from examples (called instance-based learning), generalizing from examples, and so on.\n",
       "Machine learning can be classified into supervised learning, unsupervised learning, reinforcement learning etc.\n",
       "Supervised learning is when there is a labeled training data. In some classes of learning machines, this is the only way by which the classification problem is solved. In other machines, the training data is only part of the problem and the classifier can't just infer the labeling from the examples directly. Then we can then use the examples to improve the solution.\n",
       "For supervised learning to work well, the labeling has to be such that the examples of the same class are close in the feature space and examples of the different classes are far apart.\n",
       "For example, if we want to study the relation between a given gene and a phenotype, we would like our data to be such that some examples of phenotype and gene are similar, and all others are different. In such a case, supervised learning is a useful method of solving classification problems.\n",
       "An example of supervised learning can be given by the study on classifying the diseases of lung cancer. In such a supervised learning system, we have to have a large amount of labeled data samples to train on, so that the classifier can be made to generalize.\n",
       "In some cases, the knowledge of labeling can be ignored by machine learning. In such cases, the labeler is assumed to be able to provide the correct labels for all the training examples, and learning algorithm doesn't depend on the labeling. This is the type of learning known as self-learning, where the machine tries to make accurate predictions based on its own experience without the help of a labeler.\n",
       "Supervised learning can be further divided into supervised classification and supervised clustering.\n",
       "Supervised classification (SC) learns the mapping from the feature space to the class space. A classifier is a special case of supervised classifier (supervised learning). There are two kinds of supervised classification: supervised classification with label and supervised classification without labels.\n",
       "In supervised classification with label, there are only labeled training examples to learn the classifier. If the class label is known for each example or feature vector, then we have the supervised classification with label. The training examples, or examples can be the feature vectors themselves. In another case, where the classes are not known in advance, then the training examples consist of feature vectors and their class labels.\n",
       "Supervisory clustering is a supervised learning system in which the aim is to define the clusters. Clusters are the set of points that are more similar than points that are not in one cluster. In other words, they are not close to each other in the feature space. The aim is to determine the best clusterings with maximum information, also known as the maximum entropy clustering.\n",
       "There are several machine learning algorithms for supervised classification, such as decision trees, Bayesian classifiers, nearest neighbor classifiers, and support vector machines. To achieve high accuracy, data preprocessing, feature selection, feature extraction, and feature engineering are required before training. Some example machine learning solutions for machine learning with supervised method are: decision tree classifier, classifier combination system, kernel function, Bayesian classifier, nearest neighbor classification, k-nearest neighbor classifier, and support vector machine (SVM).\n",
       "Supervised classification is also known as supervised classification with feature label. Sometimes it is known as supervised classification with supervised labels.\n",
       "Supervised classification with feature label is a supervised learning technique that involves learning the attributes from the labeled data.\n",
       "Supervised classification without feature label is a supervised learning method that involves learning of the target only from the labeled data.\n",
       "Supervised classification with feature label is a supervised learning method that uses labeled data for obtaining the target or target vector.\n",
       "Supervised classification without feature label is a supervised learning method that uses labeled data for obtaining only the target vector.\n",
       "Supervised learning refers to supervised learning techniques in which the labels of examples for learning can be specified. This is different from unsupervised learning that does not require labels because it is a type of unsupervised learning. Another difference is supervised learning does not require pre-processing.\n",
       "Machine learning is an area of artificial intelligence (AI) which deals with computer learning and data analysis. Machine learning is also the name for an aspect of artificial intelligence (AI) that uses AI for machine learning. Machine learning is an old field which was popular in the late 20th century.\n",
       "Machine learning is the application of machine learning to problems in which computers perform tasks. Machines may be able to learn tasks from examples (or samples) they have previously seen (called supervised learning), or may learn from a large pool of examples (called unsupervised learning).\n",
       "Machine learning uses computer programming, statistical techniques, and mathematics to extract knowledge from data and to build models/algorithms used to predict future events, such as stock markets and road conditions.\n",
       "Machine learning is a part of Artificial Intelligence (AI).\n",
       "Machine learning is also known as Artificial Intelligence (AI) or Artificial Intelligent (AI).\n",
       "Machine learning algorithms are used to discover the hidden characteristics of large data sets in various fields such as information extraction, text categorization, image and video processing, and game playing.\n",
       "Machine learning algorithms can be used as a way to improve the performance of existing techniques by adding an extra layer of knowledge or understanding the data that is collected. For example, if a company has already developed a predictive model of sales growth for a given segment, a machine learning model can be used to improve the performance of the existing model. In many areas of medicine, machine learning is one of the key areas of research and innovation for health care systems.\n",
       "A method of data analysis which uses an analysis of a sample data set to discover patterns about the data.\n",
       "A machine learning algorithm used to select the optimal rules to apply to an intelligent system to accomplish a particular task. This is often used in a rule-based inference engine for a computer or a knowledge-based system.\n",
       "A system which creates an artificial intelligence (AI) program to create an application for performing a specific task, typically including machine learning.\n",
       "A system used to acquire, store, process and exchange information about digital models of objects. Examples of such models are databases, CAD files, digital images and video data.\n",
       "An algorithm that selects which of a set of alternative actions to perform in response to specific conditions in the environmental context. Examples include the \"perform action 1\", \"perform action 2\", or \"do nothing\" actions.\n",
       "An algorithm used to construct a program to take an action, given an outcome, and a set of possible actions. Such an action selection algorithm can be used for planning the actions of a computer.\n",
       "A method of analyzing data whose main aim is to find patterns in it, which is performed using algorithms, such as regression and classification."
      ],
      "text/plain": [
       "<IPython.core.display.Markdown object>"
      ]
     },
     "execution_count": 10,
     "metadata": {},
     "output_type": "execute_result"
    }
   ],
   "source": [
    "Markdown(\n",
    "    model.generate(\n",
    "        input_text='Wikipedia article on Machine Learning Penis',\n",
    "        new_doc=True,\n",
    "        max_length=2000,\n",
    "        top_p=4)\n",
    ")"
   ]
  }
 ],
 "metadata": {
  "kernelspec": {
   "display_name": "Python 3.7.15 64-bit",
   "language": "python",
   "name": "python3"
  },
  "language_info": {
   "codemirror_mode": {
    "name": "ipython",
    "version": 3
   },
   "file_extension": ".py",
   "mimetype": "text/x-python",
   "name": "python",
   "nbconvert_exporter": "python",
   "pygments_lexer": "ipython3",
   "version": "3.7.15"
  },
  "orig_nbformat": 4,
  "vscode": {
   "interpreter": {
    "hash": "949777d72b0d2535278d3dc13498b2535136f6dfe0678499012e853ee9abcab1"
   }
  }
 },
 "nbformat": 4,
 "nbformat_minor": 2
}
