{
 "cells": [
  {
   "cell_type": "code",
   "execution_count": 1,
   "metadata": {},
   "outputs": [],
   "source": [
    "import galai as gal"
   ]
  },
  {
   "cell_type": "code",
   "execution_count": 2,
   "metadata": {},
   "outputs": [],
   "source": [
    "## this was useful in the previous version of the library to find the model location\n",
    "# import os\n",
    "\n",
    "# ENV_TORCH_HOME = 'TORCH_HOME'\n",
    "# ENV_XDG_CACHE_HOME = 'XDG_CACHE_HOME'\n",
    "# DEFAULT_CACHE_DIR = '~/.cache'\n",
    "\n",
    "# cache_home = os.path.expanduser(\n",
    "#     os.getenv(ENV_TORCH_HOME,\n",
    "#                 os.path.join(os.getenv(ENV_XDG_CACHE_HOME,\n",
    "#                                         DEFAULT_CACHE_DIR), 'galactica')))\n",
    "\n",
    "# print(cache_home)"
   ]
  },
  {
   "cell_type": "code",
   "execution_count": 3,
   "metadata": {},
   "outputs": [
    {
     "data": {
      "text/plain": [
       "'wikipedia article on Machine Learning Penis (2023)\\n\\n The article, \"Machine Learning Penis\", is a book about machine learning penises, which was published in 2023. The book was published by MIT Press.\\n\\n\"Machine Learning Penis\" \\n\\n## See also\\n\\n* Machine Learning Penis 2021\\n\\n'"
      ]
     },
     "execution_count": 3,
     "metadata": {},
     "output_type": "execute_result"
    }
   ],
   "source": [
    "model = gal.load_model(\"mini\", num_gpus=1)\n",
    "model.generate(\n",
    "    input_text='wikipedia article on Machine Learning Penis (2023)',\n",
    "    new_doc=True,\n",
    "    max_length=1000,\n",
    "    top_p=0.7)"
   ]
  },
  {
   "cell_type": "code",
   "execution_count": 4,
   "metadata": {},
   "outputs": [
    {
     "name": "stdout",
     "output_type": "stream",
     "text": [
      "huggingface/tokenizers: The current process just got forked, after parallelism has already been used. Disabling parallelism to avoid deadlocks...\n",
      "To disable this warning, you can either:\n",
      "\t- Avoid using `tokenizers` before the fork if possible\n",
      "\t- Explicitly set the environment variable TOKENIZERS_PARALLELISM=(true | false)\n",
      "/home/vscode/.cache/huggingface/hub/models--facebook--galactica-125m\n",
      "/home/vscode/.cache/huggingface/hub/models--facebook--galactica-125m/refs\n",
      "/home/vscode/.cache/huggingface/hub/models--facebook--galactica-125m/refs/main\n",
      "/home/vscode/.cache/huggingface/hub/models--facebook--galactica-125m/blobs\n",
      "/home/vscode/.cache/huggingface/hub/models--facebook--galactica-125m/blobs/6743a279edce768ab7e010c822ee564f997055ec333ac8f9e4220640fe50ae81\n",
      "/home/vscode/.cache/huggingface/hub/models--facebook--galactica-125m/blobs/9d09b8305d6ef04c90d6c71f25e74bd0d3f69036\n",
      "/home/vscode/.cache/huggingface/hub/models--facebook--galactica-125m/snapshots\n",
      "/home/vscode/.cache/huggingface/hub/models--facebook--galactica-125m/snapshots/37cc7b468492e48328fe13475bbf12ab2e3fceb7\n",
      "/home/vscode/.cache/huggingface/hub/models--facebook--galactica-125m/snapshots/37cc7b468492e48328fe13475bbf12ab2e3fceb7/config.json\n",
      "/home/vscode/.cache/huggingface/hub/models--facebook--galactica-125m/snapshots/37cc7b468492e48328fe13475bbf12ab2e3fceb7/pytorch_model.bin\n",
      "/home/vscode/.cache/huggingface/hub/models--facebook--galactica-1.3b\n",
      "/home/vscode/.cache/huggingface/hub/models--facebook--galactica-1.3b/refs\n",
      "/home/vscode/.cache/huggingface/hub/models--facebook--galactica-1.3b/refs/main\n",
      "/home/vscode/.cache/huggingface/hub/models--facebook--galactica-1.3b/blobs\n",
      "/home/vscode/.cache/huggingface/hub/models--facebook--galactica-1.3b/blobs/f349eb24e0a15d358137908aa71f88afc580250b3acebef102ab6e8b8cc06f18.lock\n",
      "/home/vscode/.cache/huggingface/hub/models--facebook--galactica-1.3b/blobs/1334aa6c7b03d98a0b716b28484c1290f5d6a2a4\n",
      "/home/vscode/.cache/huggingface/hub/models--facebook--galactica-1.3b/snapshots\n",
      "/home/vscode/.cache/huggingface/hub/models--facebook--galactica-1.3b/snapshots/a58128b1a9dd71319964bf6a648f28fa31ece32e\n",
      "/home/vscode/.cache/huggingface/hub/models--facebook--galactica-1.3b/snapshots/a58128b1a9dd71319964bf6a648f28fa31ece32e/config.json\n"
     ]
    }
   ],
   "source": [
    "# useful for locating the model location\n",
    "!find / 2> /dev/null | grep galactica"
   ]
  },
  {
   "attachments": {},
   "cell_type": "markdown",
   "metadata": {},
   "source": [
    "## Download the base model and use CPU only"
   ]
  },
  {
   "cell_type": "code",
   "execution_count": 5,
   "metadata": {},
   "outputs": [
    {
     "data": {
      "application/vnd.jupyter.widget-view+json": {
       "model_id": "3fb538591e70458d8149162766db8263",
       "version_major": 2,
       "version_minor": 0
      },
      "text/plain": [
       "Downloading:   0%|          | 0.00/2.63G [00:00<?, ?B/s]"
      ]
     },
     "metadata": {},
     "output_type": "display_data"
    }
   ],
   "source": [
    "model = gal.load_model(\"base\", num_gpus=0)\n",
    "model.generate(\n",
    "    input_text='wikipedia article on Machine Learning Penis (2023)',\n",
    "    new_doc=True,\n",
    "    max_length=1000,\n",
    "    top_p=0.1)"
   ]
  }
 ],
 "metadata": {
  "kernelspec": {
   "display_name": "Python 3.7.15 64-bit",
   "language": "python",
   "name": "python3"
  },
  "language_info": {
   "codemirror_mode": {
    "name": "ipython",
    "version": 3
   },
   "file_extension": ".py",
   "mimetype": "text/x-python",
   "name": "python",
   "nbconvert_exporter": "python",
   "pygments_lexer": "ipython3",
   "version": "3.7.15"
  },
  "orig_nbformat": 4,
  "vscode": {
   "interpreter": {
    "hash": "949777d72b0d2535278d3dc13498b2535136f6dfe0678499012e853ee9abcab1"
   }
  }
 },
 "nbformat": 4,
 "nbformat_minor": 2
}
