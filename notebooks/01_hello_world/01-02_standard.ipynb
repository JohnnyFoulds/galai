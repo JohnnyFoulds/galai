{
 "cells": [
  {
   "attachments": {},
   "cell_type": "markdown",
   "metadata": {},
   "source": [
    "Refer to [this article](https://www.how2shout.com/linux/how-to-increase-swap-space-in-ubuntu-22-04-lts-jammy/#:~:text=Steps%20to%20add%20Swap%20area%20in%20Ubuntu%2022.04,7%207.%20Set%20swap%20usage%20or%20swappiness%20) is you need to increase your swap space.\n",
    "\n",
    "```bash\n",
    "sudo swapon -s\n",
    "sudo swapoff -a\n",
    "sudo fallocate -l 16G /swapfile\n",
    "sudo chmod 600 /swapfile\n",
    "sudo mkswap /swapfile\n",
    "sudo swapon /swapfile\n",
    "sudo swapon -s\n",
    "```"
   ]
  },
  {
   "cell_type": "code",
   "execution_count": 1,
   "metadata": {},
   "outputs": [],
   "source": [
    "import galai as gal\n",
    "from IPython.display import display, Markdown, Latex"
   ]
  },
  {
   "cell_type": "code",
   "execution_count": 2,
   "metadata": {},
   "outputs": [],
   "source": [
    "model = gal.load_model(\"standard\", num_gpus=0)"
   ]
  },
  {
   "cell_type": "code",
   "execution_count": 3,
   "metadata": {},
   "outputs": [],
   "source": [
    "Markdown(\n",
    "    model.generate(\n",
    "        input_text='wikipedia article on Machine Learning Penis (2023)',\n",
    "        new_doc=True,\n",
    "        max_length=1000,\n",
    "        top_p=0.7)\n",
    ")"
   ]
  },
  {
   "cell_type": "code",
   "execution_count": null,
   "metadata": {},
   "outputs": [],
   "source": [
    "Markdown(\n",
    "    model.generate(\n",
    "        input_text='Deep learning in tellecomunications',\n",
    "        new_doc=True,\n",
    "        max_length=1000,\n",
    "        top_p=0.7)\n",
    ")"
   ]
  },
  {
   "cell_type": "code",
   "execution_count": null,
   "metadata": {},
   "outputs": [],
   "source": [
    "Markdown(\n",
    "    model.generate(\n",
    "        input_text='literature review on Deep Learning in Telecommunications',\n",
    "        new_doc=False,\n",
    "        max_length=1000)\n",
    ")"
   ]
  }
 ],
 "metadata": {
  "kernelspec": {
   "display_name": "Python 3.7.15 64-bit",
   "language": "python",
   "name": "python3"
  },
  "language_info": {
   "codemirror_mode": {
    "name": "ipython",
    "version": 3
   },
   "file_extension": ".py",
   "mimetype": "text/x-python",
   "name": "python",
   "nbconvert_exporter": "python",
   "pygments_lexer": "ipython3",
   "version": "3.7.15"
  },
  "orig_nbformat": 4,
  "vscode": {
   "interpreter": {
    "hash": "949777d72b0d2535278d3dc13498b2535136f6dfe0678499012e853ee9abcab1"
   }
  }
 },
 "nbformat": 4,
 "nbformat_minor": 2
}
