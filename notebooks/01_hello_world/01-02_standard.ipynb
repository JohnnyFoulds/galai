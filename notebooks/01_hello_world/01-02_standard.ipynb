{
 "cells": [
  {
   "cell_type": "code",
   "execution_count": 1,
   "metadata": {},
   "outputs": [],
   "source": [
    "import galai as gal"
   ]
  },
  {
   "cell_type": "code",
   "execution_count": 2,
   "metadata": {},
   "outputs": [
    {
     "data": {
      "application/vnd.jupyter.widget-view+json": {
       "model_id": "d22fe34894d04314b57ef3a8433b56b2",
       "version_major": 2,
       "version_minor": 0
      },
      "text/plain": [
       "Downloading:   0%|          | 0.00/794 [00:00<?, ?B/s]"
      ]
     },
     "metadata": {},
     "output_type": "display_data"
    },
    {
     "data": {
      "application/vnd.jupyter.widget-view+json": {
       "model_id": "1a6d9a2a5a9a4c318e63ed4869653749",
       "version_major": 2,
       "version_minor": 0
      },
      "text/plain": [
       "Downloading:   0%|          | 0.00/45.1k [00:00<?, ?B/s]"
      ]
     },
     "metadata": {},
     "output_type": "display_data"
    },
    {
     "data": {
      "application/vnd.jupyter.widget-view+json": {
       "model_id": "f3b1609f08814472a0603ef0891268ae",
       "version_major": 2,
       "version_minor": 0
      },
      "text/plain": [
       "Downloading:   0%|          | 0.00/9.96G [00:00<?, ?B/s]"
      ]
     },
     "metadata": {},
     "output_type": "display_data"
    },
    {
     "data": {
      "application/vnd.jupyter.widget-view+json": {
       "model_id": "9b0300d6680c45439186ee74e960c6c5",
       "version_major": 2,
       "version_minor": 0
      },
      "text/plain": [
       "Downloading:   0%|          | 0.00/3.77G [00:00<?, ?B/s]"
      ]
     },
     "metadata": {},
     "output_type": "display_data"
    }
   ],
   "source": [
    "model = gal.load_model(\"standard\", num_gpus=0)\n",
    "model.generate(\n",
    "    input_text='wikipedia article on Machine Learning Penis (2023)',\n",
    "    new_doc=True,\n",
    "    max_length=1000,\n",
    "    top_p=0.7)"
   ]
  },
  {
   "cell_type": "code",
   "execution_count": 2,
   "metadata": {},
   "outputs": [
    {
     "data": {
      "text/plain": [
       "'Deep learning in tellecomunications, Li[END_REF]].\\n\\n# 3.2.3. Machine Learning Models\\n\\nDeep learning models are a kind of machine learning technique that uses neural networks to predict the outcome of the task. They are trained on a large amount of labeled data, and then they can be used to detect abnormal behavior, predict the severity of a particular problem, and predict the failure of the system [[START_REF] A Survey on Deep Learning Models for Healthcare Applications, Aydin[END_REF]]. The use of deep learning in healthcare is more appropriate when the data used for training is large. Therefore, the performance of a deep learning model can be evaluated using the performance of the models in the training data set, and the prediction results are compared to the true prediction results [[START_REF] A Survey on Deep Learning Models for Healthcare Applications, Aydin[END_REF]].\\n\\n# 3.2.4. Artificial Intelligence (AI)\\n\\nAI techniques are used to predict the performance of a medical system in the future. AI models can be divided into two categories: neural networks and machine learning models. Neural networks are a class of neural networks that consist of a series of layers of layers that can be interpreted as an algorithm. Neural networks can be used to solve many problems in medicine, including the prediction of patients’ condition in a medical practice. In addition, neural networks are useful in the prediction of diseases in other areas, such as the prediction of drugs in the treatment of patients with heart disease, the prediction of drugs in the treatment of patients with brain diseases, the prediction of drugs in the treatment of patients with kidney diseases, and the prediction of drugs in the treatment of patients with other diseases. The main features of a neural network are its structure, structure, and the number of hidden layers. Neural networks have a wide range of applications, including the prediction of diseases in other areas, the prediction of drugs in the treatment of patients with heart disease, the prediction of drugs in the treatment of patients with brain diseases, the prediction of drugs in the treatment of patients with kidney diseases, and the prediction of drugs in the treatment of patients with other diseases. In addition, neural networks can be used to solve other problems in medicine, such as the prediction of drugs in the treatment of patients with heart disease, the prediction of drugs in the treatment of patients with brain diseases, the prediction of drugs in the treatment of patients with kidney diseases, and the prediction of drugs in the treatment of patients with other diseases.\\n\\n# 3.3. Data Preprocessing\\n\\nData preprocessing can be divided into two categories: data cleaning and feature selection. Data cleaning includes removing the noise and irrelevant data. Data cleaning includes the removal of data that contains irrelevant information. Data cleaning includes the removal of missing data, which can be used to analyze the data.\\n\\nFeature selection includes feature selection and model selection. The main purpose of feature selection is to select features with a higher correlation with the target variable. Feature selection is to find out which features can be used to predict the target variable.\\n\\nFeature selection is a process of removing redundant data and eliminating redundant features. Feature selection is a process of reducing the number of features in the data set. In addition, the features that can be selected in the feature selection process are usually selected based on their importance in the classification model. Feature selection is a process of reducing the number of features that are used in the classification model.\\n\\nIn this section, we briefly discuss the classification models used in the field of deep learning in the field of healthcare. The data preprocessing process used in the deep learning field is shown in Figure 2.\\n\\n# 3.3.1. Classification Models for Healthcare\\n\\n# 3.3.1.1. Logistic Regression\\n\\nThe logistic regression model is a statistical model that uses a linear regression model to classify the data. The model can be used to predict the probability of a particular label (eg, disease or not) using a single predictor. The model can be used to predict the probability of a specific label (eg, disease or not) using a single predictor.\\n\\nThe model is based on the concept of the decision tree. It can be used to classify a dataset. The model consists of a sequence of decision trees that are used to create a tree structure. The decision tree is used to predict the probability of a particular label (eg, disease or not). The model is used to predict the probability of a particular label (eg, disease or not) using a single predictor.\\n\\nThe decision tree is used to predict the probability of a particular label (eg, disease or not) using a single predictor. The model is used to predict the probability of a particular label (eg, disease or not) using a single predictor.\\n\\n# 3.3.1.2. K-'"
      ]
     },
     "execution_count": 2,
     "metadata": {},
     "output_type": "execute_result"
    }
   ],
   "source": [
    "model = gal.load_model(\"mini\", num_gpus=1)\n",
    "model.generate(\n",
    "    input_text='Deep learning in tellecomunications',\n",
    "    new_doc=True,\n",
    "    max_length=1000,\n",
    "    top_p=0.7)"
   ]
  },
  {
   "cell_type": "code",
   "execution_count": 2,
   "metadata": {},
   "outputs": [
    {
     "ename": "",
     "evalue": "",
     "output_type": "error",
     "traceback": [
      "\u001b[1;31mCanceled future for execute_request message before replies were done"
     ]
    },
    {
     "ename": "",
     "evalue": "",
     "output_type": "error",
     "traceback": [
      "\u001b[1;31mThe Kernel crashed while executing code in the the current cell or a previous cell. Please review the code in the cell(s) to identify a possible cause of the failure. Click <a href='https://aka.ms/vscodeJupyterKernelCrash'>here</a> for more info. View Jupyter <a href='command:jupyter.viewOutput'>log</a> for further details."
     ]
    }
   ],
   "source": [
    "model = gal.load_model(\"standard\", num_gpus=1)\n",
    "model.generate(\n",
    "    input_text='literature review on Deep Learning in Telecommunications',\n",
    "    new_doc=False,\n",
    "    max_length=1000)"
   ]
  }
 ],
 "metadata": {
  "kernelspec": {
   "display_name": "Python 3.7.15 64-bit",
   "language": "python",
   "name": "python3"
  },
  "language_info": {
   "codemirror_mode": {
    "name": "ipython",
    "version": 3
   },
   "file_extension": ".py",
   "mimetype": "text/x-python",
   "name": "python",
   "nbconvert_exporter": "python",
   "pygments_lexer": "ipython3",
   "version": "3.7.15"
  },
  "orig_nbformat": 4,
  "vscode": {
   "interpreter": {
    "hash": "949777d72b0d2535278d3dc13498b2535136f6dfe0678499012e853ee9abcab1"
   }
  }
 },
 "nbformat": 4,
 "nbformat_minor": 2
}
