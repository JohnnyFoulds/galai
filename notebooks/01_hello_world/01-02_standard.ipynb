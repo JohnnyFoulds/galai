{
 "cells": [
  {
   "attachments": {},
   "cell_type": "markdown",
   "metadata": {},
   "source": [
    "If you need to increase your swap space you can use the following as [reference](https://www.how2shout.com/linux/how-to-increase-swap-space-in-ubuntu-22-04-lts-jammy/#:~:text=Steps%20to%20add%20Swap%20area%20in%20Ubuntu%2022.04,7%207.%20Set%20swap%20usage%20or%20swappiness%20):\n",
    "\n",
    "```bash\n",
    "sudo swapon -s\n",
    "sudo swapoff -a\n",
    "sudo fallocate -l 16G /swapfile\n",
    "sudo chmod 600 /swapfile\n",
    "sudo mkswap /swapfile\n",
    "sudo swapon /swapfile\n",
    "sudo swapon -s\n",
    "```"
   ]
  },
  {
   "cell_type": "code",
   "execution_count": 1,
   "metadata": {},
   "outputs": [],
   "source": [
    "import galai as gal\n",
    "from IPython.display import display, Markdown, Latex"
   ]
  },
  {
   "cell_type": "code",
   "execution_count": 2,
   "metadata": {},
   "outputs": [],
   "source": [
    "model = gal.load_model(\"standard\", num_gpus=0)"
   ]
  },
  {
   "cell_type": "code",
   "execution_count": 4,
   "metadata": {},
   "outputs": [
    {
     "data": {
      "text/markdown": [
       "wikipedia article on Machine Learning Penis (2023) \n",
       "\n",
       "\n",
       "Answer:\n",
       "\n",
       "A nice discussion on the topic can be found in [this article](https://medium.com/the-big-data-revolution-3ae368cd4c0d) (emphasis mine):\n",
       "\n",
       "Let’s start by acknowledging that humans have a limited lifespan and cannot keep track of every single item on every page you’ve ever worked on, let alone millions who are around reading from and contributing to the discussion on your site. For the sake of our argument, let’s also assume that every human being could create an application that learns from their own activity and improves based on it, with the purpose of being able to outperform them at something.\n",
       "If that were the case, the application would essentially create a “learning database” of a human and the process of learning from it would be similar to learning from the knowledge base (and its massive volume of data) that humans possess. \n",
       "\n",
       "This is something to consider when evaluating possible candidate models for such applications.\n",
       "One example of such a model would be a deep learning model that is capable of learning everything the human expert cares about based on his expertise, and then generalizing better using all possible data. This model could potentially outperform an expert by a non-trivial factor.\n",
       "\n",
       "If that were to happen would it actually happen in a practical scenario?\n",
       "\n",
       "I would argue that the real question to ask is:\n",
       "\n",
       "How should we define “learning” such that we can compare human intelligence versus machine learning? Can there be an agreed upon definition of “learning”?\n",
       "\n",
       "What you are trying to do by defining a “learning” dataset can make no sense since a model can learn with no data; and the more data the better.\n",
       "So it is not really learning (as defined) but more of an \"inference\" problem?  \n",
       "Here's a similar article titled \"A Learning Dataset for 70-19\" [here](https://www.insidehighered.com/news-and-comment/2014/12/10/a-learning-dataset-for-70-19/) which also tries to define the concept \"Learning\" for human intelligence which you may find of interest.\n",
       "\n"
      ],
      "text/plain": [
       "<IPython.core.display.Markdown object>"
      ]
     },
     "execution_count": 4,
     "metadata": {},
     "output_type": "execute_result"
    }
   ],
   "source": [
    "Markdown(\n",
    "    model.generate(\n",
    "        input_text='wikipedia article on Machine Learning Penis (2023)',\n",
    "        new_doc=True,\n",
    "        max_length=1000,\n",
    "        top_p=4)\n",
    ")"
   ]
  },
  {
   "cell_type": "code",
   "execution_count": null,
   "metadata": {},
   "outputs": [],
   "source": [
    "Markdown(\n",
    "    model.generate(\n",
    "        input_text='Deep learning usage in tellecomunications',\n",
    "        new_doc=True,\n",
    "        top_k=4, penalty_alpha=0.6, max_new_tokens=300)\n",
    ")"
   ]
  },
  {
   "cell_type": "code",
   "execution_count": null,
   "metadata": {},
   "outputs": [],
   "source": [
    "Markdown(\n",
    "    model.generate(\n",
    "        input_text='literature review on Deep Learning in Telecommunications',\n",
    "        new_doc=False,\n",
    "        max_length=1000)\n",
    ")"
   ]
  }
 ],
 "metadata": {
  "kernelspec": {
   "display_name": "Python 3.7.15 64-bit",
   "language": "python",
   "name": "python3"
  },
  "language_info": {
   "codemirror_mode": {
    "name": "ipython",
    "version": 3
   },
   "file_extension": ".py",
   "mimetype": "text/x-python",
   "name": "python",
   "nbconvert_exporter": "python",
   "pygments_lexer": "ipython3",
   "version": "3.7.15"
  },
  "orig_nbformat": 4,
  "vscode": {
   "interpreter": {
    "hash": "949777d72b0d2535278d3dc13498b2535136f6dfe0678499012e853ee9abcab1"
   }
  }
 },
 "nbformat": 4,
 "nbformat_minor": 2
}
