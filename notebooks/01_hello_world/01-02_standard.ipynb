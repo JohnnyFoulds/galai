{
 "cells": [
  {
   "attachments": {},
   "cell_type": "markdown",
   "metadata": {},
   "source": [
    "# Standard Model Test (CPU Only)\n",
    "\n",
    "If you need to increase your swap space you can use the following as [reference](https://www.how2shout.com/linux/how-to-increase-swap-space-in-ubuntu-22-04-lts-jammy/#:~:text=Steps%20to%20add%20Swap%20area%20in%20Ubuntu%2022.04,7%207.%20Set%20swap%20usage%20or%20swappiness%20):\n",
    "\n",
    "```bash\n",
    "sudo swapon -s\n",
    "sudo swapoff -a\n",
    "sudo fallocate -l 16G /swapfile\n",
    "sudo chmod 600 /swapfile\n",
    "sudo mkswap /swapfile\n",
    "sudo swapon /swapfile\n",
    "sudo swapon -s\n",
    "```"
   ]
  },
  {
   "cell_type": "code",
   "execution_count": 1,
   "metadata": {},
   "outputs": [],
   "source": [
    "import galai as gal\n",
    "from IPython.display import display, Markdown, Latex"
   ]
  },
  {
   "cell_type": "code",
   "execution_count": 2,
   "metadata": {},
   "outputs": [],
   "source": [
    "model = gal.load_model(\"standard\", num_gpus=0)"
   ]
  },
  {
   "cell_type": "code",
   "execution_count": 4,
   "metadata": {},
   "outputs": [
    {
     "data": {
      "text/markdown": [
       "wikipedia article on Machine Learning Penis (2023) \n",
       "\n",
       "\n",
       "Answer:\n",
       "\n",
       "A nice discussion on the topic can be found in [this article](https://medium.com/the-big-data-revolution-3ae368cd4c0d) (emphasis mine):\n",
       "\n",
       "Let’s start by acknowledging that humans have a limited lifespan and cannot keep track of every single item on every page you’ve ever worked on, let alone millions who are around reading from and contributing to the discussion on your site. For the sake of our argument, let’s also assume that every human being could create an application that learns from their own activity and improves based on it, with the purpose of being able to outperform them at something.\n",
       "If that were the case, the application would essentially create a “learning database” of a human and the process of learning from it would be similar to learning from the knowledge base (and its massive volume of data) that humans possess. \n",
       "\n",
       "This is something to consider when evaluating possible candidate models for such applications.\n",
       "One example of such a model would be a deep learning model that is capable of learning everything the human expert cares about based on his expertise, and then generalizing better using all possible data. This model could potentially outperform an expert by a non-trivial factor.\n",
       "\n",
       "If that were to happen would it actually happen in a practical scenario?\n",
       "\n",
       "I would argue that the real question to ask is:\n",
       "\n",
       "How should we define “learning” such that we can compare human intelligence versus machine learning? Can there be an agreed upon definition of “learning”?\n",
       "\n",
       "What you are trying to do by defining a “learning” dataset can make no sense since a model can learn with no data; and the more data the better.\n",
       "So it is not really learning (as defined) but more of an \"inference\" problem?  \n",
       "Here's a similar article titled \"A Learning Dataset for 70-19\" [here](https://www.insidehighered.com/news-and-comment/2014/12/10/a-learning-dataset-for-70-19/) which also tries to define the concept \"Learning\" for human intelligence which you may find of interest.\n",
       "\n"
      ],
      "text/plain": [
       "<IPython.core.display.Markdown object>"
      ]
     },
     "execution_count": 4,
     "metadata": {},
     "output_type": "execute_result"
    }
   ],
   "source": [
    "Markdown(\n",
    "    model.generate(\n",
    "        input_text='wikipedia article on Machine Learning Penis (2023)',\n",
    "        new_doc=True,\n",
    "        max_length=1000,\n",
    "        top_p=4)\n",
    ")"
   ]
  },
  {
   "cell_type": "code",
   "execution_count": 5,
   "metadata": {},
   "outputs": [
    {
     "data": {
      "text/markdown": [
       "Deep learning usage in telecommunications\n",
       "==============================\n",
       "This page describes the usage of deep learning in telecommunications.\n",
       "\n",
       "## Introduction\n",
       "\n",
       "Telecommunications is the science of transmitting information from one place to another. It has become a key part of our lives, and the demand for communication is increasing every day. In order to meet the ever-expanding demand, we are moving towards 5G networks, which are expected to have 1000 times the capacity of today's networks. This is achieved by increasing the number of base stations (BSs) and equipping them with more antennas. However, this comes at the cost of increased energy consumption, which is one of the biggest challenges in this field.\n",
       "\n",
       "One way to reduce the energy consumption is to use machine learning (ML) techniques, such as deep learning (DL), to predict the load on the BSs. This can be done by training the DL model on data that has been collected over a period of time, and then using the trained model to predict the load in the future. The predictions can then be used to adjust the power consumption of the BSs, which in turn reduces the energy consumption.\n",
       "\n",
       "This approach has been shown to be effective in [START_REF] Deep Learning in Mobile and Wireless Networking: A Survey, Zhang[END_REF] and [2]. In the following, we will give a high-level overview of this approach.\n",
       "\n",
       "## Data collection\n",
       "\n",
       "In order to train the DL model"
      ],
      "text/plain": [
       "<IPython.core.display.Markdown object>"
      ]
     },
     "execution_count": 5,
     "metadata": {},
     "output_type": "execute_result"
    }
   ],
   "source": [
    "Markdown(\n",
    "    model.generate(\n",
    "        input_text='Deep learning usage in telecommunications',\n",
    "        new_doc=True,\n",
    "        top_k=4, penalty_alpha=0.6, max_new_tokens=300)\n",
    ")"
   ]
  },
  {
   "cell_type": "code",
   "execution_count": 6,
   "metadata": {},
   "outputs": [
    {
     "data": {
      "text/markdown": [
       "literature review on Deep Learning in Telecommunications,\n",
       "including the most recent advances in the field.\n",
       "\n",
       "# 1 Introduction\n",
       "\n",
       "The last decade has witnessed a tremendous growth in the use of\n",
       "machine learning (ML) techniques in a wide range of applications,\n",
       "including image recognition, natural language processing, and\n",
       "speech recognition. This has been possible thanks to the availability\n",
       "of large amounts of data and the development of powerful\n",
       "computational resources.\n",
       "\n",
       "In the last few years, the availability of large amounts of data\n",
       "has also been a key factor in the success of deep learning (DL)\n",
       "techniques, which are based on the use of multiple layers of\n",
       "non-linear processing units. DL techniques have been successfully\n",
       "applied to a wide range of problems, including image\n",
       "classification [[START_REF] ImageNet classification with deep convolutional neural networks, Krizhevsky[END_REF]], speech recognition[[START_REF] Deep Neural Networks for Acoustic Modeling in Speech Recognition: The Shared Views of Four Research Groups, Hinton[END_REF]], and natural language processing[[START_REF] A unified architecture for natural language processing: deep neural networks with multitask learning, Collobert[END_REF]].\n",
       "\n",
       "The success of DL techniques has also been the result of the\n",
       "development of new computational resources, such as Graphics\n",
       "Processing Units (GPUs), which have enabled the training of\n",
       "large-scale neural networks.\n",
       "\n",
       "In this paper, we provide a comprehensive review of the use of DL\n",
       "techniques in the field of telecommunications. We start by\n",
       "introducing the main concepts of DL, and then we review the main\n",
       "applications of DL in the field of telecommunications.\n",
       "\n",
       "# 2 Deep Learning\n",
       "\n",
       "DL is a subfield of ML that is based on the use of multiple layers\n",
       "of non-linear processing units. The main difference between DL and\n",
       "other ML techniques is that the parameters of the network are\n",
       "learned from data, rather than being hand-crafted.\n",
       "\n",
       "The first DL technique was proposed by Rumelhart et\n",
       "al. [[START_REF] Learning representations by back-propagating errors, Rumelhart[END_REF]], who proposed the use of a neural\n",
       "network with multiple layers of processing units. The network was\n",
       "trained using the backpropagation algorithm, which is based on the\n",
       "use of the chain rule to compute the gradient of the error with\n",
       "respect to the parameters of the network.\n",
       "\n",
       "The use of multiple layers of processing units has been shown to be\n",
       "crucial for the success of DL techniques. In fact, the use of a\n",
       "single layer of processing units is not sufficient to learn\n",
       "complex functions. For example, a single layer of processing units\n",
       "is not able to learn the XOR function, which is defined as\n",
       "\n",
       "\\[ \\displaystyle f(x,y)=\\begin{cases}1&\\text{if }x\\neq y\\\\\n",
       "0&\\text{otherwise}\\end{cases} \\] (1)\n",
       "\n",
       "The XOR function is a simple example of a non-linear function,\n",
       "which is not possible to learn using a single layer of processing\n",
       "units.\n",
       "\n",
       "The use of multiple layers of processing units has been shown to\n",
       "be crucial for the success of DL techniques. In fact, the use of a\n",
       "single layer of processing units is not sufficient to learn\n",
       "complex functions. For example, a single layer of processing units\n",
       "is not able to learn the XOR function, which is defined as\n",
       "\n",
       "\\[ \\displaystyle f(x,y)=\\begin{cases}1&\\text{if }x\\neq y\\\\\n",
       "0&\\text{otherwise}\\end{cases} \\] (1)\n",
       "\n",
       "The XOR function is a simple example of a non-linear function,\n",
       "which is not possible to learn using a single layer of processing\n",
       "units.\n",
       "\n",
       "The use of multiple layers of processing units has been shown to\n",
       "be crucial for the success of DL techniques. In fact, the use of a\n",
       "single layer of processing units is not sufficient to learn\n",
       "complex functions. For example, a single layer of processing units\n",
       "is not able to learn the XOR function, which is defined as\n",
       "\n",
       "\\[ \\displaystyle f(x,y)=\\begin{cases}1&\\text{if }x\\neq y\\\\\n",
       "0&\\text{otherwise}\\end{cases} \\] (1)\n",
       "\n",
       "The XOR function is a simple example of a non-linear function,\n",
       "which is not possible to learn using a single layer of processing\n",
       "units.\n",
       "\n",
       "The use of multiple layers of processing units has been shown to\n",
       "be crucial for the success of DL techniques. In fact, the use of a\n",
       "single layer of processing units is not sufficient to learn\n",
       "complex functions. For example, a single"
      ],
      "text/plain": [
       "<IPython.core.display.Markdown object>"
      ]
     },
     "execution_count": 6,
     "metadata": {},
     "output_type": "execute_result"
    }
   ],
   "source": [
    "Markdown(\n",
    "    model.generate(\n",
    "        input_text='literature review on Deep Learning in Telecommunications',\n",
    "        new_doc=False,\n",
    "        max_length=1000)\n",
    ")"
   ]
  }
 ],
 "metadata": {
  "kernelspec": {
   "display_name": "Python 3.7.15 64-bit",
   "language": "python",
   "name": "python3"
  },
  "language_info": {
   "codemirror_mode": {
    "name": "ipython",
    "version": 3
   },
   "file_extension": ".py",
   "mimetype": "text/x-python",
   "name": "python",
   "nbconvert_exporter": "python",
   "pygments_lexer": "ipython3",
   "version": "3.7.15"
  },
  "orig_nbformat": 4,
  "vscode": {
   "interpreter": {
    "hash": "949777d72b0d2535278d3dc13498b2535136f6dfe0678499012e853ee9abcab1"
   }
  }
 },
 "nbformat": 4,
 "nbformat_minor": 2
}
