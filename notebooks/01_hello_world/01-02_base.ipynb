{
 "cells": [
  {
   "cell_type": "code",
   "execution_count": 1,
   "metadata": {},
   "outputs": [],
   "source": [
    "import galai as gal"
   ]
  },
  {
   "cell_type": "code",
   "execution_count": 2,
   "metadata": {},
   "outputs": [
    {
     "data": {
      "text/plain": [
       "'wikipedia article on Machine Learning Penis (2023)), but it has not been validated. In fact, the model is not tested for its accuracy in predicting a specific event.\\n\\n# 4.4.2.4 Machine Learning Techniques\\n\\nMachine learning techniques can be used for detecting a specific type of crime.\\n\\n# •\\n\\n# Random Forest\\n\\nThe Random Forest is an ensemble learning method that uses many decision trees to classify the data. It is more accurate than a single decision tree.\\n\\n# •\\n\\nK-Nearest Neighbors (KNN)\\n\\nThe KNN is a non-parametric classifier that uses the similarity of a sample to its nearest neighbors to make its predictions.\\n\\n# •\\n\\nSupport Vector Machine (SVM)\\n\\nThe SVM is a supervised learning method that uses a kernel function to map the data to a higher-dimensional space where it can be classified. The SVM is more accurate than other classification methods.\\n\\n# •\\n\\nLogistic Regression (LR)\\n\\nThe LR is a supervised learning method that uses a linear function to map the data to a higher-dimensional space. It is also called a linear discriminant analysis (LDA).\\n\\n# •\\n\\nDecision Tree\\n\\nThe decision tree is a supervised learning method that uses a tree structure to classify the data. The decision tree is an ensemble learning method. It is an effective way of handling high-dimensional data.\\n\\n# •\\n\\nDecision List\\n\\nThe decision list is a supervised learning method that uses a list of rules to classify the data. The decision list is an ensemble learning method. It is an effective way of handling high-dimensional data.\\n\\n# •\\n\\nSupport Vector Machines with Linear Kernel (SVM-Linear)\\n\\nThe SVM-Linear is a supervised learning method that uses a linear function to map the data to a higher-dimensional space.\\n\\n# •\\n\\nSupport Vector Machines with Radial Basis Function (SVM-RBF)\\n\\nThe SVM-RBF is a supervised learning method that uses a radial basis function to map the data to a higher-dimensional space.\\n\\n# •\\n\\nSupport Vector Machines with Polynomial Kernel (SVM-Poly)\\n\\nThe SVM-Poly is a supervised learning method that uses a polynomial function to map the data to a higher-dimensional space.\\n\\n# •\\n\\nSupport Vector Machines with Sigmoid Kernel (SVM-Sig)\\n\\nThe SVM-Sig is a supervised learning method that uses a sigmoid function to map the data to a higher-dimensional space.\\n\\n# •\\n\\nSupport Vector Machines with Radial Basis Function and Polynomial Kernel (SVM-RBF-Poly)\\n\\nThe SVM-RBF-Poly is a supervised learning method that uses a radial basis function and polynomial function to map the data to a higher-dimensional space.\\n\\n# •\\n\\nRandom Forest with Random Forest Classifier (RF-RF)\\n\\nThe RF-RF is a supervised learning method that uses a random forest to classify the data. It is an ensemble learning method.\\n\\n# •\\n\\nDecision Tree with Random Forest Classifier (DT-RF)\\n\\nThe DT-RF is a supervised learning method that uses a decision tree to classify the data. It is an ensemble learning method.\\n\\n# •\\n\\nRandom Forest with Decision Tree Classifier (RF-DT)\\n\\nThe RF-DT is a supervised learning method that uses a random forest to classify the data. It is an ensemble learning method.\\n\\n# •\\n\\nRandom Forest with Logistic Regression Classifier (RF-LR)\\n\\nThe RF-LR is a supervised learning method that uses a random forest to classify the data. It is an ensemble learning method.\\n\\n# •\\n\\nDecision Tree with Logistic Regression Classifier (DT-LR)\\n\\nThe DT-LR is a supervised learning method that uses a decision tree to classify the data. It is an ensemble learning method.\\n\\n# •\\n\\nRandom Forest with Decision List Classifier (RF-DL)\\n\\nThe RF-DL is a supervised learning method that uses a random forest to classify the data. It is an ensemble learning method.\\n\\n# •\\n\\nDecision Tree with Decision List Classifier (DT-DL)\\n\\nThe DT-DL is a supervised learning method that uses a decision tree to classify the data. It is an ensemble learning method.\\n\\n# •\\n\\nRandom Forest with Support Vector Machine Classifier (RF-SVM)\\n\\nThe RF-SVM is a supervised learning method that uses a random forest to classify the data. It is an ensemble learning method.\\n\\n# •\\n\\nDecision Tree with Support Vector Machine Classifier (DT-SVM)\\n\\nThe DT'"
      ]
     },
     "execution_count": 2,
     "metadata": {},
     "output_type": "execute_result"
    }
   ],
   "source": [
    "model = gal.load_model(\"base\", num_gpus=1)\n",
    "model.generate(\n",
    "    input_text='wikipedia article on Machine Learning Penis (2023)',\n",
    "    new_doc=True,\n",
    "    max_length=1000,\n",
    "    top_p=0.7)"
   ]
  },
  {
   "cell_type": "code",
   "execution_count": 2,
   "metadata": {},
   "outputs": [
    {
     "data": {
      "text/plain": [
       "'Deep learning in tellecomunications: a survey, Liu[END_REF]. The deep learning approach is an advanced approach that is used to train the deep neural networks (DNNs) using a huge dataset to learn the mapping from input features to output labels. The DNN models are used to recognize the patterns in the dataset and learn the hidden features in the data. Deep learning has been successfully applied in various fields including medical diagnosis, text classification, image recognition, speech recognition, and many more [START_REF] Deep Learning, Goodfellow[END_REF]. The use of deep learning has also been proposed in the context of mobile networks [START_REF] Deep Learning for Mobile Edge Networks: A Survey, Zhang[END_REF]. For instance, in [START_REF] Deep Learning for Mobile Edge Networks: A Survey, Zhang[END_REF], the authors proposed a comprehensive survey on the application of deep learning in the context of mobile edge networks. In [START_REF] Deep Learning in Mobile and Wireless Networking: A Survey, Zhang[END_REF], the authors surveyed the application of deep learning in mobile and wireless networks.\\n\\nIn this paper, we present a deep learning-based approach for intelligent routing in the next-generation mobile networks. The proposed approach is used to learn the mapping from input features (i.e., link quality, network congestion, and mobility) to output labels (i.e., the route with the minimum energy consumption and the route with the minimum transmission delay). The proposed approach is based on the concept of reinforcement learning (RL) [START_REF] Reinforcement Learning: An Introduction, Sutton[END_REF]. RL is an artificial intelligence approach used to learn from an environment by interacting with the environment. The environment is the network that is being learned. In our case, the environment is the network where the mobile nodes are moving. In this environment, each mobile node has its own local state, and the objective of the mobile node is to learn to select the optimal route from the local states. The mobile node can take actions (i.e., selecting a route) to change the state of the network. The action taken by the mobile node changes the network state. The mobile node then learns from the changes in the network state and the rewards (i.e., the benefits that the mobile node receives from the actions taken by the mobile node). The reward received by the mobile node is used to update the value of the state. This value of the state is used to determine the next state. This process continues until the mobile node reaches a terminal state (i.e., the destination). In the RL approach, the network is considered as an environment. The mobile nodes are the agents that are learning from the environment. The mobile node uses its actions (i.e., selecting a route) to change the network state. The reward received by the mobile node is used to update the value of the state. The mobile node then learns from the changes in the network state and the rewards (i.e., the benefits that the mobile node receives from the actions taken by the mobile node). The reward received by the mobile node is used to update the value of the state. This value of the state is used to determine the next state. This process continues until the mobile node reaches a terminal state (i.e., the destination). In the RL approach, the network is considered as an environment. The mobile nodes are the agents that are learning from the environment. The mobile node uses its actions (i.e., selecting a route) to change the network state. The reward received by the mobile node is used to update the value of the state. The mobile node then learns from the changes in the network state and the rewards (i.e., the benefits that the mobile node receives from the actions taken by the mobile node). The reward received by the mobile node is used to update the value of the state. This value of the state is used to determine the next state. This process continues until the mobile node reaches a terminal state (i.e., the destination). In the RL approach, the network is considered as an environment. The mobile nodes are the agents that are learning from the environment. The mobile node uses its actions (i.e., selecting a route) to change the network state. The reward received by the mobile node is used to update the value of the state. The mobile node then learns from the changes in the network state and the rewards (i.e., the benefits that the mobile node receives from the actions taken by the mobile node). The reward received by the mobile node is used to update the value of the state. This value of the state is used to determine the next state. This process continues until the mobile node reaches a terminal state (i.e., the destination).\\n\\nThe contributions of this paper are summarized as follows:'"
      ]
     },
     "execution_count": 2,
     "metadata": {},
     "output_type": "execute_result"
    }
   ],
   "source": [
    "model = gal.load_model(\"base\", num_gpus=1)\n",
    "model.generate(\n",
    "    input_text='Deep learning in tellecomunications',\n",
    "    new_doc=True,\n",
    "    max_length=1000,\n",
    "    top_p=0.7)"
   ]
  },
  {
   "cell_type": "code",
   "execution_count": 4,
   "metadata": {},
   "outputs": [],
   "source": [
    "input_text = [\n",
    "    'literature review on Machine Learning',\n",
    "    'Write a PhD thesis on Artificial Intelligence in Telecommunications',\n",
    "    'Title: Literature review on Machine Learning (ML) and Deep Learning (DL) in the field of Telecommunications',\n",
    "    'Section 3: Literature review on ML and DL in the field of telecommunications'\n",
    "]"
   ]
  },
  {
   "cell_type": "code",
   "execution_count": 2,
   "metadata": {},
   "outputs": [
    {
     "data": {
      "text/plain": [
       "'Title: Literature review on Machine Learning (ML) and Deep Learning (DL) in the field of Telecommunications\\n\\nAbstract: Machine Learning (ML) and Deep Learning (DL) are the most recent and promising technologies in the field of telecommunications. The main objective of this paper is to provide a comprehensive review of the recent research works on ML and DL in the field of telecommunications. The paper is organized as follows: Section 2 provides a brief introduction to ML and DL. Section 3 presents the literature review on ML and DL in the field of telecommunications. Section 4 concludes the paper.</s>'"
      ]
     },
     "execution_count": 2,
     "metadata": {},
     "output_type": "execute_result"
    }
   ],
   "source": [
    "model = gal.load_model(\"base\", num_gpus=1)\n",
    "model.generate(\n",
    "    input_text=input_text[2],\n",
    "    new_doc=True,\n",
    "    max_length=1000,\n",
    "    )"
   ]
  },
  {
   "cell_type": "code",
   "execution_count": 5,
   "metadata": {},
   "outputs": [
    {
     "data": {
      "text/plain": [
       "'Section 3: Literature review on ML and DL in the field of telecommunications\\n\\nSection 4: Literature review on ML and DL in the field of IoT\\n\\nSection 5: Literature review on ML and DL in the field of smart cities\\n\\nSection 6: Literature review on ML and DL in the field of smart grids\\n\\nSection 7: Literature review on ML and DL in the field of smart transportation\\n\\nSection 8: Literature review on ML and DL in the field of smart agriculture\\n\\nSection 9: Literature review on ML and DL in the field of smart manufacturing\\n\\nSection 10: Literature review on ML and DL in the field of smart healthcare\\n\\nSection 11: Literature review on ML and DL in the field of smart energy\\n\\nSection 12: Literature review on ML and DL in the field of smart agriculture\\n\\nSection 13: Literature review on ML and DL in the field of smart manufacturing\\n\\nSection 14: Literature review on ML and DL in the field of smart healthcare\\n\\nSection 15: Literature review on ML and DL in the field of smart energy\\n\\nSection 16: Literature review on ML and DL in the field of smart agriculture\\n\\nSection 17: Literature review on ML and DL in the field of smart manufacturing\\n\\nSection 18: Literature review on ML and DL in the field of smart healthcare\\n\\nSection 19: Literature review on ML and DL in the field of smart energy\\n\\nSection 20: Literature review on ML and DL in the field of smart agriculture\\n\\nSection 21: Literature review on ML and DL in the field of smart manufacturing\\n\\nSection 22: Literature review on ML and DL in the field of smart healthcare\\n\\nSection 23: Literature review on ML and DL in the field of smart energy\\n\\nSection 24: Literature review on ML and DL in the field of smart agriculture\\n\\nSection 25: Literature review on ML and DL in the field of smart manufacturing\\n\\nSection 26: Literature review on ML and DL in the field of smart healthcare\\n\\nSection 27: Literature review on ML and DL in the field of smart energy\\n\\nSection 28: Literature review on ML and DL in the field of smart agriculture\\n\\nSection 29: Literature review on ML and DL in the field of smart manufacturing\\n\\nSection 30: Literature review on ML and DL in the field of smart healthcare\\n\\nSection 31: Literature review on ML and DL in the field of smart energy\\n\\nSection 32: Literature review on ML and DL in the field of smart agriculture\\n\\nSection 33: Literature review on ML and DL in the field of smart manufacturing\\n\\nSection 34: Literature review on ML and DL in the field of smart healthcare\\n\\nSection 35: Literature review on ML and DL in the field of smart energy\\n\\nSection 36: Literature review on ML and DL in the field of smart agriculture\\n\\nSection 37: Literature review on ML and DL in the field of smart manufacturing\\n\\nSection 38: Literature review on ML and DL in the field of smart healthcare\\n\\nSection 39: Literature review on ML and DL in the field of smart energy\\n\\nSection 40: Literature review on ML and DL in the field of smart agriculture\\n\\nSection 41: Literature review on ML and DL in the field of smart manufacturing\\n\\nSection 42: Literature review on ML and DL in the field of smart healthcare\\n\\nSection 43: Literature review on ML and DL in the field of smart energy\\n\\nSection 44: Literature review on ML and DL in the field of smart agriculture\\n\\nSection 45: Literature review on ML and DL in the field of smart manufacturing\\n\\nSection 46: Literature review on ML and DL in the field of smart healthcare\\n\\nSection 47: Literature review on ML and DL in the field of smart energy\\n\\nSection 48: Literature review on ML and DL in the field of smart agriculture\\n\\nSection 49: Literature review on ML and DL in the field of smart manufacturing\\n\\nSection 50: Literature review on ML and DL in the field of smart healthcare\\n\\nSection 51: Literature review on ML and DL in the field of smart energy\\n\\nSection 52: Literature review on ML and DL in the field of smart agriculture\\n\\nSection 53: Literature review on ML and DL in the field of smart manufacturing\\n\\nSection 54: Literature review on ML and DL in the field of smart healthcare\\n\\nSection 55: Literature review on ML and DL in the field of smart energy\\n\\nSection 56: Literature review on ML and DL in the field of smart agriculture\\n\\nSection 57: Literature review on ML and DL in the field of smart manufacturing\\n\\nSection 58: Literature review on ML and DL in the field of smart healthcare\\n\\nSection 59: Literature review on ML and DL in the field of smart energy\\n\\nSection 60: Literature review on ML and DL in the field of smart agriculture\\n\\nSection 61: Literature review on ML and DL in the field of smart manufacturing\\n\\nSection 62: Literature review on ML and DL in the field of smart healthcare\\n\\nSection 63: Literature review on ML and DL in the field of smart energy\\n\\nSection 64: Literature review on ML and DL in the field of smart agriculture\\n\\nSection 65: Literature review on ML and DL in the field of smart manufacturing\\n\\nSection 66: Literature review on ML and DL in the field of smart healthcare\\n\\nSection 67: Literature review on ML and DL in the field of smart energy\\n\\nSection 68: Literature review on ML and DL in the field of smart agriculture\\n\\nSection 69: Literature review on ML and DL in the field of smart manufacturing\\n\\nSection 70: Literature review on ML and DL in the field of smart healthcare\\n\\nSection 71: Literature review on ML and DL in the field of smart energy\\n\\nSection 72: Literature review on ML and DL in the field of smart agriculture\\n\\nSection 73: Literature review on ML and DL in the field of smart manufacturing\\n\\nSection 74: Literature review on ML and DL in the field of smart healthcare\\n\\nSection 75: Literature review on ML and DL in the field of smart energy\\n\\nSection 76: Literature review on ML and DL in the field of smart agriculture\\n\\nSection 77: Literature review on ML and DL in the field of smart manufacturing\\n\\nSection 78: Literature review on ML and DL in the field of smart healthcare\\n\\nSection 79: Literature review on ML and DL in the field of smart energy\\n\\nSection 80: Literature review on ML and DL in the field of smart agriculture\\n\\nSection 81: Literature review on ML and DL in the field of smart manufacturing\\n\\nSection 82: Literature review on ML and DL in the field of smart healthcare\\n\\nSection 83: Literature review on ML and DL in the field of smart energy\\n\\nSection 84: Literature review on ML and DL in the field of smart agriculture\\n\\nSection 85: Literature review on ML and DL in the field of smart manufacturing\\n\\nSection 86: Literature review on ML and DL in the field of smart healthcare\\n\\nSection 87: Literature review on ML and DL in the field of smart energy\\n\\nSection 88: Literature review on ML and DL in the field of smart agriculture\\n\\nSection 89: Literature review on ML and DL in the field of smart manufacturing\\n\\nSection 90: Literature review on ML and DL in the field of smart healthcare\\n\\nSection 91: Literature review on ML and DL in the field of smart energy\\n\\nSection 92: Literature review on ML and DL in the field of smart agriculture\\n\\nSection 93: Literature review on ML and DL in the field of smart manufacturing\\n\\nSection 94: Literature review on ML and DL in the field of smart healthcare\\n\\nSection 95: Literature review on ML and DL in the field of smart energy\\n\\nSection 96: Literature review on ML and DL in the field of smart agriculture\\n\\nSection 97: Literature review on ML and DL in the field of smart manufacturing\\n\\nSection 98: Literature review on ML and DL in the field of smart healthcare\\n\\nSection 99: Literature review on ML and DL in the field of smart energy\\n\\nSection 100: Literature review on ML and DL in the field of smart agriculture\\n\\nSection 101: Literature review on ML and DL in the field of smart manufacturing\\n\\nSection 102: Literature review on ML and DL in the field of smart healthcare\\n\\nSection 103: Literature review on ML and DL in the field of smart energy\\n\\nSection 104: Literature review on ML and DL in the field of smart agriculture\\n\\nSection 105: Literature review on ML and DL in the field of smart manufacturing\\n\\nSection 106: Literature review on ML and DL in the field of smart healthcare\\n\\nSection 107: Literature review on ML and DL in the field of smart energy\\n\\nSection 10'"
      ]
     },
     "execution_count": 5,
     "metadata": {},
     "output_type": "execute_result"
    }
   ],
   "source": [
    "model = gal.load_model(\"base\", num_gpus=1)\n",
    "model.generate(\n",
    "    input_text=input_text[3],\n",
    "    new_doc=True,\n",
    "    max_length=2000,\n",
    "    )"
   ]
  }
 ],
 "metadata": {
  "kernelspec": {
   "display_name": "Python 3.7.15 64-bit",
   "language": "python",
   "name": "python3"
  },
  "language_info": {
   "codemirror_mode": {
    "name": "ipython",
    "version": 3
   },
   "file_extension": ".py",
   "mimetype": "text/x-python",
   "name": "python",
   "nbconvert_exporter": "python",
   "pygments_lexer": "ipython3",
   "version": "3.7.15"
  },
  "orig_nbformat": 4,
  "vscode": {
   "interpreter": {
    "hash": "949777d72b0d2535278d3dc13498b2535136f6dfe0678499012e853ee9abcab1"
   }
  }
 },
 "nbformat": 4,
 "nbformat_minor": 2
}
