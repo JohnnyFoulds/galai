{
 "cells": [
  {
   "cell_type": "code",
   "execution_count": 1,
   "metadata": {},
   "outputs": [],
   "source": [
    "import galai as gal"
   ]
  },
  {
   "cell_type": "code",
   "execution_count": 2,
   "metadata": {},
   "outputs": [
    {
     "data": {
      "text/plain": [
       "'wikipedia article on Machine Learning Penis (2023)), but it has not been validated. In fact, the model is not tested for its accuracy in predicting a specific event.\\n\\n# 4.4.2.4 Machine Learning Techniques\\n\\nMachine learning techniques can be used for detecting a specific type of crime.\\n\\n# •\\n\\n# Random Forest\\n\\nThe Random Forest is an ensemble learning method that uses many decision trees to classify the data. It is more accurate than a single decision tree.\\n\\n# •\\n\\nK-Nearest Neighbors (KNN)\\n\\nThe KNN is a non-parametric classifier that uses the similarity of a sample to its nearest neighbors to make its predictions.\\n\\n# •\\n\\nSupport Vector Machine (SVM)\\n\\nThe SVM is a supervised learning method that uses a kernel function to map the data to a higher-dimensional space where it can be classified. The SVM is more accurate than other classification methods.\\n\\n# •\\n\\nLogistic Regression (LR)\\n\\nThe LR is a supervised learning method that uses a linear function to map the data to a higher-dimensional space. It is also called a linear discriminant analysis (LDA).\\n\\n# •\\n\\nDecision Tree\\n\\nThe decision tree is a supervised learning method that uses a tree structure to classify the data. The decision tree is an ensemble learning method. It is an effective way of handling high-dimensional data.\\n\\n# •\\n\\nDecision List\\n\\nThe decision list is a supervised learning method that uses a list of rules to classify the data. The decision list is an ensemble learning method. It is an effective way of handling high-dimensional data.\\n\\n# •\\n\\nSupport Vector Machines with Linear Kernel (SVM-Linear)\\n\\nThe SVM-Linear is a supervised learning method that uses a linear function to map the data to a higher-dimensional space.\\n\\n# •\\n\\nSupport Vector Machines with Radial Basis Function (SVM-RBF)\\n\\nThe SVM-RBF is a supervised learning method that uses a radial basis function to map the data to a higher-dimensional space.\\n\\n# •\\n\\nSupport Vector Machines with Polynomial Kernel (SVM-Poly)\\n\\nThe SVM-Poly is a supervised learning method that uses a polynomial function to map the data to a higher-dimensional space.\\n\\n# •\\n\\nSupport Vector Machines with Sigmoid Kernel (SVM-Sig)\\n\\nThe SVM-Sig is a supervised learning method that uses a sigmoid function to map the data to a higher-dimensional space.\\n\\n# •\\n\\nSupport Vector Machines with Radial Basis Function and Polynomial Kernel (SVM-RBF-Poly)\\n\\nThe SVM-RBF-Poly is a supervised learning method that uses a radial basis function and polynomial function to map the data to a higher-dimensional space.\\n\\n# •\\n\\nRandom Forest with Random Forest Classifier (RF-RF)\\n\\nThe RF-RF is a supervised learning method that uses a random forest to classify the data. It is an ensemble learning method.\\n\\n# •\\n\\nDecision Tree with Random Forest Classifier (DT-RF)\\n\\nThe DT-RF is a supervised learning method that uses a decision tree to classify the data. It is an ensemble learning method.\\n\\n# •\\n\\nRandom Forest with Decision Tree Classifier (RF-DT)\\n\\nThe RF-DT is a supervised learning method that uses a random forest to classify the data. It is an ensemble learning method.\\n\\n# •\\n\\nRandom Forest with Logistic Regression Classifier (RF-LR)\\n\\nThe RF-LR is a supervised learning method that uses a random forest to classify the data. It is an ensemble learning method.\\n\\n# •\\n\\nDecision Tree with Logistic Regression Classifier (DT-LR)\\n\\nThe DT-LR is a supervised learning method that uses a decision tree to classify the data. It is an ensemble learning method.\\n\\n# •\\n\\nRandom Forest with Decision List Classifier (RF-DL)\\n\\nThe RF-DL is a supervised learning method that uses a random forest to classify the data. It is an ensemble learning method.\\n\\n# •\\n\\nDecision Tree with Decision List Classifier (DT-DL)\\n\\nThe DT-DL is a supervised learning method that uses a decision tree to classify the data. It is an ensemble learning method.\\n\\n# •\\n\\nRandom Forest with Support Vector Machine Classifier (RF-SVM)\\n\\nThe RF-SVM is a supervised learning method that uses a random forest to classify the data. It is an ensemble learning method.\\n\\n# •\\n\\nDecision Tree with Support Vector Machine Classifier (DT-SVM)\\n\\nThe DT'"
      ]
     },
     "execution_count": 2,
     "metadata": {},
     "output_type": "execute_result"
    }
   ],
   "source": [
    "model = gal.load_model(\"base\", num_gpus=1)\n",
    "model.generate(\n",
    "    input_text='wikipedia article on Machine Learning Penis (2023)',\n",
    "    new_doc=True,\n",
    "    max_length=1000,\n",
    "    top_p=0.7)"
   ]
  },
  {
   "cell_type": "code",
   "execution_count": 3,
   "metadata": {},
   "outputs": [
    {
     "data": {
      "text/plain": [
       "'Litirature review of Deep learning in Telecommunications and Multimedia\\n\\nAbstract: In the past decade, deep learning has been a research hotspot in the fields of telecommunications and multimedia. Deep learning can automatically extract the features from raw data, and it has been successfully applied to a variety of fields. Deep learning in the telecommunications and multimedia field has been a hot topic in recent years. This paper introduces the research progress of deep learning in the telecommunications and multimedia field, and then presents the current research problems and development trends.</s>'"
      ]
     },
     "execution_count": 3,
     "metadata": {},
     "output_type": "execute_result"
    }
   ],
   "source": [
    "model = gal.load_model(\"base\", num_gpus=1)\n",
    "model.generate(\n",
    "    input_text='Litirature review of Deep learning in the Telecommunications industry',\n",
    "    new_doc=True,\n",
    "    max_length=1000,\n",
    "    top_p=0.7)"
   ]
  },
  {
   "cell_type": "code",
   "execution_count": 4,
   "metadata": {},
   "outputs": [
    {
     "data": {
      "text/plain": [
       "'This paper introduces the research progress of deep learning in the telecommunications field. It starts with a brief introduction of the deep learning technology and the basic concepts of the convolutional neural network (CNN) and recurrent neural network (RNN). The paper then summarizes the research status of the CNN and RNN in telecommunications. At last, the paper points out the direction of future research.</s>'"
      ]
     },
     "execution_count": 4,
     "metadata": {},
     "output_type": "execute_result"
    }
   ],
   "source": [
    "model = gal.load_model(\"base\", num_gpus=1)\n",
    "model.generate(\n",
    "    input_text='This paper introduces the research progress of deep learning in the telecommunications field',\n",
    "    new_doc=False,\n",
    "    max_length=1000,\n",
    "    top_p=0.7)"
   ]
  },
  {
   "cell_type": "code",
   "execution_count": 2,
   "metadata": {},
   "outputs": [
    {
     "data": {
      "text/plain": [
       "'The paper then summarizes the research status of the CNN and RNN in telecommunications and introduces the latest research progress. The research content of the paper is summarized as follows:\\n\\n1. In the current network environment, the number of wireless communication devices is increasing year by year, which is the key to solving the problem of network resource consumption. At the same time, the development of wireless communication technology is also accelerating, which makes it difficult for wireless communication equipment to meet the needs of communication users. Therefore, how to effectively improve the utilization rate of wireless communication resources is an urgent problem to be solved. 2. Due to the huge amount of data in the wireless communication environment, the existing network is facing the problem of big data. How to effectively use the data to help improve the quality of service and reduce the cost of communication has become a problem that must be solved. 3. At present, the most popular deep learning algorithms are the CNN and RNN. The paper compares and analyzes the advantages and disadvantages of the two algorithms, and the advantages and disadvantages of these two algorithms are summarized.\\n\\n# 2. RELATED WORK\\n\\nIn the era of big data, the amount of data is increasing exponentially, and the data analysis is facing a new challenge. At present, most of the data analysis algorithms use traditional methods to extract useful information from the data, and the algorithms based on traditional machine learning are usually used to identify the relationship between data samples. In recent years, the deep learning algorithm has been widely used in many fields.\\n\\n# 2.1. CNN\\n\\nThe CNN is a deep learning algorithm proposed by the University of Leicester in 2012. The CNN can extract more abstract features of the data by stacking several layers of convolution operations, and the data obtained by stacking several layers of convolution operations can also be used as the input of the next layer of convolution operations. Therefore, the CNN can not only extract more abstract features of the data but also obtain a high-level feature expression of the data. At present, the CNN has been widely used in many fields, such as speech recognition, image recognition, natural language processing, and so on.\\n\\n# 2.1.1. CNN Structure\\n\\nThe CNN structure is shown in Fig. 1.\\n\\nThe structure of the CNN is shown in Fig. 1.\\n\\nIn Fig. 1, the input layer of the CNN is the data to be analyzed, and the number of neurons in the input layer is the same as the number of data samples. In the convolution layer, the number of neurons in the convolution layer is equal to the number of neurons in the input layer, and the convolution operation is performed on the input data, which can be expressed as:\\n\\n( ) ( ) ( ) ( ) ( ) ( ) ( ) ( ) ( ) ( ) ( ) ( ) ( ) ( ) ( ) ( ) ( ) ( ) ( ) ( ) ( ) ( ) ( ) ( ) ( ) ( ) ( ) ( ) ( ) ( ) ( ) ( ) ( ) ( ) ( ) ( ) ( ) ( ) ( ) ( ) ( ) ( ) ( ) ( ) ( ) ( ) ( ) ( ) ( ) ( ) ( ) ( ) ( ) ( ) ( ) ( ) ( ) ( ) ( ) ( ) ( ) ( ) ( ) ( ) ( ) ( ) ( ) ( ) ( ) ( ) ( ) ( ) ( ) ( ) ( ) ( ) ( ) ( ) ( ) ( ) ( ) ( ) ( ) ( ) ( ) ( ) ( ) ( ) ( ) ( ) ( ) ( ) ( ) ( ) ( ) ( ) ( ) ( ) ( ) ( ) ( ) ( ) ( ) ( ) ( ) ( ) ( ) ( ) ( ) ( ) ( ) ( ) ( ) ( ) ( ) ( ) ( ) ( ) ( ) ( ) ( ) ( ) ( ) ( ) ( ) ( ) ( ) ( ) ( ) ( ) ( ) ( ) ( ) ( ) ( ) ( ) ( ) ( ) ( ) ( ) ( ) ( ) ( ) ( ) ( ) ( ) ( ) ( ) ( ) ( ) ( ) ( ) ( ) ( ) ( ) ( ) ( ) ( ) ( ) ( ) ( ) ( ) ( ) ( ) ( ) ( ) ( ) ( ) ( ) ( ) ( ) ( ) ( ) ( ) ( ) ( ) ( ) ( ) ( ) ( ) ( ) ( ) ( ) ( ) ( ) ( ) ( ) ( ) ( ) ( ) ( ) ( ) ( ) ( ) ( ) ( ) ( ) ( ) ( ) ( ) ( ) ( ) ( ) ( ) ( ) ( ) ( ) ( ) ( ) ( ) ( ) ( ) ( ) ( ) ( ) ( ) ( ) ( ) ( ) ( ) ( ) ( ) ( ) ( ) ( ) ( ) ( ) ( ) ( ) ( ) ( ) ( ) ( ) ( ) ( ) ( ) ( ) ( ) ( ) ( ) ( ) ( ) ( ) ( ) ( ) ( ) ( ) ( ) ( ) ( ) ( ) ( ) ( ) ( ) ( ) ( ) ( ) ( ) ( ) ( ) ( ) ( ) ( ) ( ) ( ) ( ) ( ) ( ) ( ) ( ) ( ) ( ) ( ) ( ) ( ) ( ) ( ) ( ) ( ) ( ) ( ) ( ) ( ) ( ) ( ) ( ) ( ) ( ) ( ) ( ) ( ) ( ) ( ) ( ) ( ) ( ) ( ) ( ) ( ) ( ) ( ) ( ) ( ) ( ) ( ) ( ) ( ) ( ) ( ) ( ) ( ) ( ) ( ) ( ) ( ) ( ) ( ) ( ) ( ) ( ) ( ) ( ) ( ) ( ) ( ) ( ) ( ) ( ) ( ) ( ) ( ) ( ) ( ) ( ) ( ) ( ) ( ) ( ) ( ) ( ) ( ) ( ) ( ) ( ) ( ) ( ) ( ) ( ) ( ) ( ) ( ) ( ) ( ) ( ) ( ) ( ) ( ) ( ) ('"
      ]
     },
     "execution_count": 2,
     "metadata": {},
     "output_type": "execute_result"
    }
   ],
   "source": [
    "model = gal.load_model(\"base\", num_gpus=1)\n",
    "model.generate(\n",
    "    input_text='The paper then summarizes the research status of the CNN and RNN in telecommunications',\n",
    "    new_doc=True,\n",
    "    max_length=2000,\n",
    "    top_p=0.7)"
   ]
  },
  {
   "cell_type": "code",
   "execution_count": 4,
   "metadata": {},
   "outputs": [],
   "source": [
    "input_text = [\n",
    "    'literature review on Machine Learning',\n",
    "    'Write a PhD thesis on Artificial Intelligence in Telecommunications',\n",
    "    'Title: Literature review on Machine Learning (ML) and Deep Learning (DL) in the field of Telecommunications',\n",
    "    'Section 3: Literature review on ML and DL in the field of telecommunications'\n",
    "]"
   ]
  },
  {
   "cell_type": "code",
   "execution_count": 2,
   "metadata": {},
   "outputs": [
    {
     "data": {
      "text/plain": [
       "'Title: Literature review on Machine Learning (ML) and Deep Learning (DL) in the field of Telecommunications\\n\\nAbstract: Machine Learning (ML) and Deep Learning (DL) are the most recent and promising technologies in the field of telecommunications. The main objective of this paper is to provide a comprehensive review of the recent research works on ML and DL in the field of telecommunications. The paper is organized as follows: Section 2 provides a brief introduction to ML and DL. Section 3 presents the literature review on ML and DL in the field of telecommunications. Section 4 concludes the paper.</s>'"
      ]
     },
     "execution_count": 2,
     "metadata": {},
     "output_type": "execute_result"
    }
   ],
   "source": [
    "model = gal.load_model(\"base\", num_gpus=1)\n",
    "model.generate(\n",
    "    input_text=input_text[2],\n",
    "    new_doc=True,\n",
    "    max_length=1000,\n",
    "    )"
   ]
  },
  {
   "cell_type": "code",
   "execution_count": 5,
   "metadata": {},
   "outputs": [
    {
     "data": {
      "text/plain": [
       "'Section 3: Literature review on ML and DL in the field of telecommunications\\n\\nSection 4: Literature review on ML and DL in the field of IoT\\n\\nSection 5: Literature review on ML and DL in the field of smart cities\\n\\nSection 6: Literature review on ML and DL in the field of smart grids\\n\\nSection 7: Literature review on ML and DL in the field of smart transportation\\n\\nSection 8: Literature review on ML and DL in the field of smart agriculture\\n\\nSection 9: Literature review on ML and DL in the field of smart manufacturing\\n\\nSection 10: Literature review on ML and DL in the field of smart healthcare\\n\\nSection 11: Literature review on ML and DL in the field of smart energy\\n\\nSection 12: Literature review on ML and DL in the field of smart agriculture\\n\\nSection 13: Literature review on ML and DL in the field of smart manufacturing\\n\\nSection 14: Literature review on ML and DL in the field of smart healthcare\\n\\nSection 15: Literature review on ML and DL in the field of smart energy\\n\\nSection 16: Literature review on ML and DL in the field of smart agriculture\\n\\nSection 17: Literature review on ML and DL in the field of smart manufacturing\\n\\nSection 18: Literature review on ML and DL in the field of smart healthcare\\n\\nSection 19: Literature review on ML and DL in the field of smart energy\\n\\nSection 20: Literature review on ML and DL in the field of smart agriculture\\n\\nSection 21: Literature review on ML and DL in the field of smart manufacturing\\n\\nSection 22: Literature review on ML and DL in the field of smart healthcare\\n\\nSection 23: Literature review on ML and DL in the field of smart energy\\n\\nSection 24: Literature review on ML and DL in the field of smart agriculture\\n\\nSection 25: Literature review on ML and DL in the field of smart manufacturing\\n\\nSection 26: Literature review on ML and DL in the field of smart healthcare\\n\\nSection 27: Literature review on ML and DL in the field of smart energy\\n\\nSection 28: Literature review on ML and DL in the field of smart agriculture\\n\\nSection 29: Literature review on ML and DL in the field of smart manufacturing\\n\\nSection 30: Literature review on ML and DL in the field of smart healthcare\\n\\nSection 31: Literature review on ML and DL in the field of smart energy\\n\\nSection 32: Literature review on ML and DL in the field of smart agriculture\\n\\nSection 33: Literature review on ML and DL in the field of smart manufacturing\\n\\nSection 34: Literature review on ML and DL in the field of smart healthcare\\n\\nSection 35: Literature review on ML and DL in the field of smart energy\\n\\nSection 36: Literature review on ML and DL in the field of smart agriculture\\n\\nSection 37: Literature review on ML and DL in the field of smart manufacturing\\n\\nSection 38: Literature review on ML and DL in the field of smart healthcare\\n\\nSection 39: Literature review on ML and DL in the field of smart energy\\n\\nSection 40: Literature review on ML and DL in the field of smart agriculture\\n\\nSection 41: Literature review on ML and DL in the field of smart manufacturing\\n\\nSection 42: Literature review on ML and DL in the field of smart healthcare\\n\\nSection 43: Literature review on ML and DL in the field of smart energy\\n\\nSection 44: Literature review on ML and DL in the field of smart agriculture\\n\\nSection 45: Literature review on ML and DL in the field of smart manufacturing\\n\\nSection 46: Literature review on ML and DL in the field of smart healthcare\\n\\nSection 47: Literature review on ML and DL in the field of smart energy\\n\\nSection 48: Literature review on ML and DL in the field of smart agriculture\\n\\nSection 49: Literature review on ML and DL in the field of smart manufacturing\\n\\nSection 50: Literature review on ML and DL in the field of smart healthcare\\n\\nSection 51: Literature review on ML and DL in the field of smart energy\\n\\nSection 52: Literature review on ML and DL in the field of smart agriculture\\n\\nSection 53: Literature review on ML and DL in the field of smart manufacturing\\n\\nSection 54: Literature review on ML and DL in the field of smart healthcare\\n\\nSection 55: Literature review on ML and DL in the field of smart energy\\n\\nSection 56: Literature review on ML and DL in the field of smart agriculture\\n\\nSection 57: Literature review on ML and DL in the field of smart manufacturing\\n\\nSection 58: Literature review on ML and DL in the field of smart healthcare\\n\\nSection 59: Literature review on ML and DL in the field of smart energy\\n\\nSection 60: Literature review on ML and DL in the field of smart agriculture\\n\\nSection 61: Literature review on ML and DL in the field of smart manufacturing\\n\\nSection 62: Literature review on ML and DL in the field of smart healthcare\\n\\nSection 63: Literature review on ML and DL in the field of smart energy\\n\\nSection 64: Literature review on ML and DL in the field of smart agriculture\\n\\nSection 65: Literature review on ML and DL in the field of smart manufacturing\\n\\nSection 66: Literature review on ML and DL in the field of smart healthcare\\n\\nSection 67: Literature review on ML and DL in the field of smart energy\\n\\nSection 68: Literature review on ML and DL in the field of smart agriculture\\n\\nSection 69: Literature review on ML and DL in the field of smart manufacturing\\n\\nSection 70: Literature review on ML and DL in the field of smart healthcare\\n\\nSection 71: Literature review on ML and DL in the field of smart energy\\n\\nSection 72: Literature review on ML and DL in the field of smart agriculture\\n\\nSection 73: Literature review on ML and DL in the field of smart manufacturing\\n\\nSection 74: Literature review on ML and DL in the field of smart healthcare\\n\\nSection 75: Literature review on ML and DL in the field of smart energy\\n\\nSection 76: Literature review on ML and DL in the field of smart agriculture\\n\\nSection 77: Literature review on ML and DL in the field of smart manufacturing\\n\\nSection 78: Literature review on ML and DL in the field of smart healthcare\\n\\nSection 79: Literature review on ML and DL in the field of smart energy\\n\\nSection 80: Literature review on ML and DL in the field of smart agriculture\\n\\nSection 81: Literature review on ML and DL in the field of smart manufacturing\\n\\nSection 82: Literature review on ML and DL in the field of smart healthcare\\n\\nSection 83: Literature review on ML and DL in the field of smart energy\\n\\nSection 84: Literature review on ML and DL in the field of smart agriculture\\n\\nSection 85: Literature review on ML and DL in the field of smart manufacturing\\n\\nSection 86: Literature review on ML and DL in the field of smart healthcare\\n\\nSection 87: Literature review on ML and DL in the field of smart energy\\n\\nSection 88: Literature review on ML and DL in the field of smart agriculture\\n\\nSection 89: Literature review on ML and DL in the field of smart manufacturing\\n\\nSection 90: Literature review on ML and DL in the field of smart healthcare\\n\\nSection 91: Literature review on ML and DL in the field of smart energy\\n\\nSection 92: Literature review on ML and DL in the field of smart agriculture\\n\\nSection 93: Literature review on ML and DL in the field of smart manufacturing\\n\\nSection 94: Literature review on ML and DL in the field of smart healthcare\\n\\nSection 95: Literature review on ML and DL in the field of smart energy\\n\\nSection 96: Literature review on ML and DL in the field of smart agriculture\\n\\nSection 97: Literature review on ML and DL in the field of smart manufacturing\\n\\nSection 98: Literature review on ML and DL in the field of smart healthcare\\n\\nSection 99: Literature review on ML and DL in the field of smart energy\\n\\nSection 100: Literature review on ML and DL in the field of smart agriculture\\n\\nSection 101: Literature review on ML and DL in the field of smart manufacturing\\n\\nSection 102: Literature review on ML and DL in the field of smart healthcare\\n\\nSection 103: Literature review on ML and DL in the field of smart energy\\n\\nSection 104: Literature review on ML and DL in the field of smart agriculture\\n\\nSection 105: Literature review on ML and DL in the field of smart manufacturing\\n\\nSection 106: Literature review on ML and DL in the field of smart healthcare\\n\\nSection 107: Literature review on ML and DL in the field of smart energy\\n\\nSection 10'"
      ]
     },
     "execution_count": 5,
     "metadata": {},
     "output_type": "execute_result"
    }
   ],
   "source": [
    "model = gal.load_model(\"base\", num_gpus=1)\n",
    "model.generate(\n",
    "    input_text=input_text[3],\n",
    "    new_doc=True,\n",
    "    max_length=2000,\n",
    "    )"
   ]
  }
 ],
 "metadata": {
  "kernelspec": {
   "display_name": "Python 3.7.15 64-bit",
   "language": "python",
   "name": "python3"
  },
  "language_info": {
   "codemirror_mode": {
    "name": "ipython",
    "version": 3
   },
   "file_extension": ".py",
   "mimetype": "text/x-python",
   "name": "python",
   "nbconvert_exporter": "python",
   "pygments_lexer": "ipython3",
   "version": "3.7.15"
  },
  "orig_nbformat": 4,
  "vscode": {
   "interpreter": {
    "hash": "949777d72b0d2535278d3dc13498b2535136f6dfe0678499012e853ee9abcab1"
   }
  }
 },
 "nbformat": 4,
 "nbformat_minor": 2
}
