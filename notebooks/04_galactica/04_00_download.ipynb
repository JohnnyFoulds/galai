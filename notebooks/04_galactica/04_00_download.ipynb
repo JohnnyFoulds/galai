{
 "cells": [
  {
   "attachments": {},
   "cell_type": "markdown",
   "metadata": {},
   "source": [
    "# Download Models\n",
    "\n",
    "```bash\n",
    "git clone https://huggingface.co/facebook/galactica-30b\n",
    "git clone https://huggingface.co/facebook/galactica-120b\n",
    "```\n",
    "\n",
    "## Web References\n",
    "\n",
    "### [Meta’s Galactica AI can write your essay in a minute](https://dataconomy.com/2022/11/meta-galactica-ai-demo-model-how-use-paper/)\n",
    "\n",
    "This is an introductory article about the potential promise of the Galactica AI model. It is a good starting point for understanding the model and its potential.\n",
    "\n",
    "\n",
    "### [How to access Scientific Knowledge with Galactica](https://towardsai.net/p/l/how-to-access-scientific-knowledge-with-galactica)\n",
    "\n",
    "This provides various prompt engineering examples:"
   ]
  },
  {
   "attachments": {},
   "cell_type": "markdown",
   "metadata": {},
   "source": [
    "#### Papers and Surveys\n",
    "\n",
    "This functionality is particularly useful when you need a comprehensive survey on a particular topic. Simply design the prompt as Title: TOPIC, A Survey and Galactica will automatically generate one for you\n",
    "\n",
    "```python\n",
    "# generate paper document\n",
    "input_text = \"Title: Self-Supervised Learning, A Survey\\n\\nAuthors: John Smith\\n\\n\"\n",
    "\n",
    "generated_text = model.generate(input_text, new_doc=True)\n",
    "print(generated_text)\n",
    "```"
   ]
  },
  {
   "attachments": {},
   "cell_type": "markdown",
   "metadata": {},
   "source": [
    "#### Lecture Notes and Wikipedia Articles\n",
    "\n",
    "For Wikipedia-style articles or lecture notes, begin the prompt with #.\n",
    "\n",
    "```python\n",
    "# generate wiki style articles\n",
    "input_text = \"# Multi-Head Attention\\n\\n\"\n",
    "\n",
    "generated_text = model.generate(input_text, new_doc=True)\n",
    "print(generated_text)\n",
    "```"
   ]
  },
  {
   "attachments": {},
   "cell_type": "markdown",
   "metadata": {},
   "source": [
    "#### Citation Prediction\n",
    "\n",
    "To search for a paper that discusses a certain topic, make use of the following prompt — PAPER TOPIC [START_REF]. Since the [START_REF] token is appended to the end of the input context, Galactica would treat it as the beginning of a citation and complete the rest.\n",
    "\n",
    "```python\n",
    "# search citation\n",
    "input_text = \"An NLP paper that compares different ways of encoding positions in Transformer-based architectures \"\n",
    "\n",
    "generated_text = model.generate(input_text + \"[START_REF]\")\n",
    "print(generated_text)\n",
    "```\n",
    "\n",
    "Given a prompt such as TEXT [START_REF], Galactica can automatically suggest citations relevant to the TEXT.\n",
    "\n",
    "```python\n",
    "# predict citation\n",
    "input_text = \"\"\"Recurrent neural networks, long short-term memory and gated recurrent neural networks in particular, have been firmly established as state of the art approaches in sequence modeling and transduction problems such as language modeling and machine translation \"\"\"\n",
    "\n",
    "generated_text = model.generate(input_text + \"[START_REF]\")\n",
    "print(generated_text)\n",
    "```"
   ]
  },
  {
   "attachments": {},
   "cell_type": "markdown",
   "metadata": {},
   "source": [
    "The remainder of the article discuss _Downstream NLP Tasks_ such as \n",
    "\n",
    "- **Summarization** - simply append `'\\n\\nTLDR:'`\n",
    "- **Entity Extraction** \n",
    "- **Question Answering** - `input_text = f\"Question: {query}\\n\\nAnswer:\"`\n",
    "- **Multi-modal Tasks** - Process modalities other than unstructured text, such as LaTeX equations, code, SMILES formula, DNA sequences, and amino acid sequences.\n",
    "- **Math** - Mathematical equations are represented as LaTeX. Galactica wraps LaTeX equations with brackets `\\[ EQUATION \\]`. For example `generated_text = model.generate(input_text + \"\\[\")` There is also the functionality to convert mathematical equations into code.\n",
    "- **Code**\n",
    "- **Chemical Understanding**\n",
    "- *Biological Understanding**"
   ]
  }
 ],
 "metadata": {
  "language_info": {
   "name": "python"
  },
  "orig_nbformat": 4
 },
 "nbformat": 4,
 "nbformat_minor": 2
}
