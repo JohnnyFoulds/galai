{
 "cells": [
  {
   "attachments": {},
   "cell_type": "markdown",
   "metadata": {},
   "source": [
    "# Download GALPACA Models\n",
    "\n",
    "- [Fetch models and tokenizers to use offline](https://huggingface.co/docs/transformers/installation?highlight=transformers_cache#fetch-models-and-tokenizers-to-use-offline)\n",
    "\n",
    "\n",
    "```bash\n",
    "cd huggingface\n",
    "\n",
    "git clone https://huggingface.co/GeorgiaTechResearchInstitute/galpaca-6.7b\n",
    "git clone https://huggingface.co/GeorgiaTechResearchInstitute/galpaca-30b\n",
    "```"
   ]
  },
  {
   "cell_type": "code",
   "execution_count": null,
   "metadata": {},
   "outputs": [
    {
     "data": {
      "application/vnd.jupyter.widget-view+json": {
       "model_id": "7a2c4f6dce8c446f921503e337532332",
       "version_major": 2,
       "version_minor": 0
      },
      "text/plain": [
       "Downloading (…)lve/main/config.json:   0%|          | 0.00/790 [00:00<?, ?B/s]"
      ]
     },
     "metadata": {},
     "output_type": "display_data"
    },
    {
     "data": {
      "text/plain": [
       "'/media/johnny/seagull_returns/huggingface/models--GeorgiaTechResearchInstitute--galpaca-30b/snapshots/ac17d8d50277432e294bdcc64c745e1a7a460a51/config.json'"
      ]
     },
     "metadata": {},
     "output_type": "display_data"
    }
   ],
   "source": [
    "hf_hub_download(\n",
    "    repo_id=\"GeorgiaTechResearchInstitute/galpaca-30b\", \n",
    "    filename=\"config.json\", \n",
    "    cache_dir=\"/media/johnny/seagull_returns/huggingface\")"
   ]
  },
  {
   "cell_type": "code",
   "execution_count": 1,
   "metadata": {},
   "outputs": [],
   "source": [
    "from huggingface_hub import hf_hub_download"
   ]
  },
  {
   "cell_type": "code",
   "execution_count": 4,
   "metadata": {},
   "outputs": [
    {
     "data": {
      "application/vnd.jupyter.widget-view+json": {
       "model_id": "6b842b323bb24fbd9b2def614e5f2dc7",
       "version_major": 2,
       "version_minor": 0
      },
      "text/plain": [
       "Downloading (…)lve/main/config.json:   0%|          | 0.00/800 [00:00<?, ?B/s]"
      ]
     },
     "metadata": {},
     "output_type": "display_data"
    },
    {
     "data": {
      "text/plain": [
       "'/media/johnny/seagull_returns/huggingface/models--GeorgiaTechResearchInstitute--galpaca-6.7b/snapshots/d55147c9a5fbedfb89cfeacc52cc7ce69f5642cc/config.json'"
      ]
     },
     "execution_count": 4,
     "metadata": {},
     "output_type": "execute_result"
    }
   ],
   "source": [
    "hf_hub_download(\n",
    "    repo_id=\"GeorgiaTechResearchInstitute/galpaca-6.7b\", \n",
    "    filename=\"config.json\", \n",
    "    cache_dir=\"/media/johnny/seagull_returns/huggingface\")"
   ]
  },
  {
   "cell_type": "code",
   "execution_count": 5,
   "metadata": {},
   "outputs": [
    {
     "data": {
      "application/vnd.jupyter.widget-view+json": {
       "model_id": "7a2c4f6dce8c446f921503e337532332",
       "version_major": 2,
       "version_minor": 0
      },
      "text/plain": [
       "Downloading (…)lve/main/config.json:   0%|          | 0.00/790 [00:00<?, ?B/s]"
      ]
     },
     "metadata": {},
     "output_type": "display_data"
    },
    {
     "data": {
      "text/plain": [
       "'/media/johnny/seagull_returns/huggingface/models--GeorgiaTechResearchInstitute--galpaca-30b/snapshots/ac17d8d50277432e294bdcc64c745e1a7a460a51/config.json'"
      ]
     },
     "execution_count": 5,
     "metadata": {},
     "output_type": "execute_result"
    }
   ],
   "source": [
    "hf_hub_download(\n",
    "    repo_id=\"GeorgiaTechResearchInstitute/galpaca-30b\", \n",
    "    filename=\"config.json\", \n",
    "    cache_dir=\"/media/johnny/seagull_returns/huggingface\")"
   ]
  }
 ],
 "metadata": {
  "kernelspec": {
   "display_name": "Python 3",
   "language": "python",
   "name": "python3"
  },
  "language_info": {
   "codemirror_mode": {
    "name": "ipython",
    "version": 3
   },
   "file_extension": ".py",
   "mimetype": "text/x-python",
   "name": "python",
   "nbconvert_exporter": "python",
   "pygments_lexer": "ipython3",
   "version": "3.8.16"
  },
  "orig_nbformat": 4
 },
 "nbformat": 4,
 "nbformat_minor": 2
}
