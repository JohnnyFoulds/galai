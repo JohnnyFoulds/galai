{
 "cells": [
  {
   "attachments": {},
   "cell_type": "markdown",
   "metadata": {},
   "source": [
    "# Download GALPACA Models\n",
    "\n",
    "- [Fetch models and tokenizers to use offline](https://huggingface.co/docs/transformers/installation?highlight=transformers_cache#fetch-models-and-tokenizers-to-use-offline)\n",
    "\n",
    "\n",
    "```bash\n",
    "cd huggingface\n",
    "\n",
    "git clone https://huggingface.co/GeorgiaTechResearchInstitute/galpaca-6.7b\n",
    "git clone https://huggingface.co/GeorgiaTechResearchInstitute/galpaca-30b\n",
    "```"
   ]
  }
 ],
 "metadata": {
  "kernelspec": {
   "display_name": "Python 3",
   "language": "python",
   "name": "python3"
  },
  "language_info": {
   "codemirror_mode": {
    "name": "ipython",
    "version": 3
   },
   "file_extension": ".py",
   "mimetype": "text/x-python",
   "name": "python",
   "nbconvert_exporter": "python",
   "pygments_lexer": "ipython3",
   "version": "3.8.16"
  },
  "orig_nbformat": 4
 },
 "nbformat": 4,
 "nbformat_minor": 2
}
